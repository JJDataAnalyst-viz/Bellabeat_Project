{
 "cells": [
  {
   "cell_type": "code",
   "execution_count": 1,
   "id": "8cc24a47",
   "metadata": {
    "_cell_guid": "b1076dfc-b9ad-4769-8c92-a6c4dae69d19",
    "_uuid": "8f2839f25d086af736a60e9eeb907d3b93b6e0e5",
    "execution": {
     "iopub.execute_input": "2024-04-14T10:21:35.540650Z",
     "iopub.status.busy": "2024-04-14T10:21:35.539921Z",
     "iopub.status.idle": "2024-04-14T10:21:36.529279Z",
     "shell.execute_reply": "2024-04-14T10:21:36.527538Z"
    },
    "papermill": {
     "duration": 1.001042,
     "end_time": "2024-04-14T10:21:36.532167",
     "exception": false,
     "start_time": "2024-04-14T10:21:35.531125",
     "status": "completed"
    },
    "tags": []
   },
   "outputs": [
    {
     "name": "stdout",
     "output_type": "stream",
     "text": [
      "/kaggle/input/fitbit/mturkfitbit_export_3.12.16-4.11.16/Fitabase Data 3.12.16-4.11.16/minuteCaloriesNarrow_merged.csv\n",
      "/kaggle/input/fitbit/mturkfitbit_export_3.12.16-4.11.16/Fitabase Data 3.12.16-4.11.16/weightLogInfo_merged.csv\n",
      "/kaggle/input/fitbit/mturkfitbit_export_3.12.16-4.11.16/Fitabase Data 3.12.16-4.11.16/minuteMETsNarrow_merged.csv\n",
      "/kaggle/input/fitbit/mturkfitbit_export_3.12.16-4.11.16/Fitabase Data 3.12.16-4.11.16/hourlyCalories_merged.csv\n",
      "/kaggle/input/fitbit/mturkfitbit_export_3.12.16-4.11.16/Fitabase Data 3.12.16-4.11.16/heartrate_seconds_merged.csv\n",
      "/kaggle/input/fitbit/mturkfitbit_export_3.12.16-4.11.16/Fitabase Data 3.12.16-4.11.16/minuteSleep_merged.csv\n",
      "/kaggle/input/fitbit/mturkfitbit_export_3.12.16-4.11.16/Fitabase Data 3.12.16-4.11.16/hourlyIntensities_merged.csv\n",
      "/kaggle/input/fitbit/mturkfitbit_export_3.12.16-4.11.16/Fitabase Data 3.12.16-4.11.16/hourlySteps_merged.csv\n",
      "/kaggle/input/fitbit/mturkfitbit_export_3.12.16-4.11.16/Fitabase Data 3.12.16-4.11.16/minuteStepsNarrow_merged.csv\n",
      "/kaggle/input/fitbit/mturkfitbit_export_3.12.16-4.11.16/Fitabase Data 3.12.16-4.11.16/minuteIntensitiesNarrow_merged.csv\n",
      "/kaggle/input/fitbit/mturkfitbit_export_3.12.16-4.11.16/Fitabase Data 3.12.16-4.11.16/dailyActivity_merged.csv\n",
      "/kaggle/input/fitbit/mturkfitbit_export_4.12.16-5.12.16/Fitabase Data 4.12.16-5.12.16/minuteCaloriesNarrow_merged.csv\n",
      "/kaggle/input/fitbit/mturkfitbit_export_4.12.16-5.12.16/Fitabase Data 4.12.16-5.12.16/weightLogInfo_merged.csv\n",
      "/kaggle/input/fitbit/mturkfitbit_export_4.12.16-5.12.16/Fitabase Data 4.12.16-5.12.16/sleepDay_merged.csv\n",
      "/kaggle/input/fitbit/mturkfitbit_export_4.12.16-5.12.16/Fitabase Data 4.12.16-5.12.16/dailyIntensities_merged.csv\n",
      "/kaggle/input/fitbit/mturkfitbit_export_4.12.16-5.12.16/Fitabase Data 4.12.16-5.12.16/minuteIntensitiesWide_merged.csv\n",
      "/kaggle/input/fitbit/mturkfitbit_export_4.12.16-5.12.16/Fitabase Data 4.12.16-5.12.16/minuteMETsNarrow_merged.csv\n",
      "/kaggle/input/fitbit/mturkfitbit_export_4.12.16-5.12.16/Fitabase Data 4.12.16-5.12.16/dailyCalories_merged.csv\n",
      "/kaggle/input/fitbit/mturkfitbit_export_4.12.16-5.12.16/Fitabase Data 4.12.16-5.12.16/hourlyCalories_merged.csv\n",
      "/kaggle/input/fitbit/mturkfitbit_export_4.12.16-5.12.16/Fitabase Data 4.12.16-5.12.16/heartrate_seconds_merged.csv\n",
      "/kaggle/input/fitbit/mturkfitbit_export_4.12.16-5.12.16/Fitabase Data 4.12.16-5.12.16/minuteSleep_merged.csv\n",
      "/kaggle/input/fitbit/mturkfitbit_export_4.12.16-5.12.16/Fitabase Data 4.12.16-5.12.16/hourlyIntensities_merged.csv\n",
      "/kaggle/input/fitbit/mturkfitbit_export_4.12.16-5.12.16/Fitabase Data 4.12.16-5.12.16/hourlySteps_merged.csv\n",
      "/kaggle/input/fitbit/mturkfitbit_export_4.12.16-5.12.16/Fitabase Data 4.12.16-5.12.16/minuteStepsNarrow_merged.csv\n",
      "/kaggle/input/fitbit/mturkfitbit_export_4.12.16-5.12.16/Fitabase Data 4.12.16-5.12.16/dailySteps_merged.csv\n",
      "/kaggle/input/fitbit/mturkfitbit_export_4.12.16-5.12.16/Fitabase Data 4.12.16-5.12.16/minuteStepsWide_merged.csv\n",
      "/kaggle/input/fitbit/mturkfitbit_export_4.12.16-5.12.16/Fitabase Data 4.12.16-5.12.16/minuteIntensitiesNarrow_merged.csv\n",
      "/kaggle/input/fitbit/mturkfitbit_export_4.12.16-5.12.16/Fitabase Data 4.12.16-5.12.16/minuteCaloriesWide_merged.csv\n",
      "/kaggle/input/fitbit/mturkfitbit_export_4.12.16-5.12.16/Fitabase Data 4.12.16-5.12.16/dailyActivity_merged.csv\n"
     ]
    }
   ],
   "source": [
    "# This Python 3 environment comes with many helpful analytics libraries installed\n",
    "# It is defined by the kaggle/python Docker image: https://github.com/kaggle/docker-python\n",
    "# For example, here's several helpful packages to load\n",
    "\n",
    "import numpy as np # linear algebra\n",
    "import pandas as pd # data processing, CSV file I/O (e.g. pd.read_csv)\n",
    "\n",
    "# Input data files are available in the read-only \"../input/\" directory\n",
    "# For example, running this (by clicking run or pressing Shift+Enter) will list all files under the input directory\n",
    "\n",
    "import os\n",
    "for dirname, _, filenames in os.walk('/kaggle/input'):\n",
    "    for filename in filenames:\n",
    "        print(os.path.join(dirname, filename))\n",
    "\n",
    "# You can write up to 20GB to the current directory (/kaggle/working/) that gets preserved as output when you create a version using \"Save & Run All\" \n",
    "# You can also write temporary files to /kaggle/temp/, but they won't be saved outside of the current session"
   ]
  },
  {
   "cell_type": "code",
   "execution_count": 2,
   "id": "6493b19c",
   "metadata": {
    "execution": {
     "iopub.execute_input": "2024-04-14T10:21:36.547351Z",
     "iopub.status.busy": "2024-04-14T10:21:36.546812Z",
     "iopub.status.idle": "2024-04-14T10:21:38.788231Z",
     "shell.execute_reply": "2024-04-14T10:21:38.787003Z"
    },
    "papermill": {
     "duration": 2.25226,
     "end_time": "2024-04-14T10:21:38.790900",
     "exception": false,
     "start_time": "2024-04-14T10:21:36.538640",
     "status": "completed"
    },
    "tags": []
   },
   "outputs": [],
   "source": [
    "import numpy as np\n",
    "import pandas as pd\n",
    "import matplotlib.pyplot as plt\n",
    "import plotly.express as px\n",
    "import seaborn as sns\n",
    "import datetime as dt\n",
    "plt.style.use('ggplot')\n",
    "\n",
    "#option for seeing all columns\n",
    "\n",
    "#pd.set_option('max_column')"
   ]
  },
  {
   "cell_type": "code",
   "execution_count": 3,
   "id": "751f4d98",
   "metadata": {
    "execution": {
     "iopub.execute_input": "2024-04-14T10:21:38.805564Z",
     "iopub.status.busy": "2024-04-14T10:21:38.805153Z",
     "iopub.status.idle": "2024-04-14T10:21:38.827227Z",
     "shell.execute_reply": "2024-04-14T10:21:38.825952Z"
    },
    "papermill": {
     "duration": 0.032578,
     "end_time": "2024-04-14T10:21:38.830025",
     "exception": false,
     "start_time": "2024-04-14T10:21:38.797447",
     "status": "completed"
    },
    "tags": []
   },
   "outputs": [],
   "source": [
    "df = pd.read_csv(\"/kaggle/input/fitbit/mturkfitbit_export_4.12.16-5.12.16/Fitabase Data 4.12.16-5.12.16/dailyActivity_merged.csv\")"
   ]
  },
  {
   "cell_type": "code",
   "execution_count": 4,
   "id": "17389154",
   "metadata": {
    "execution": {
     "iopub.execute_input": "2024-04-14T10:21:38.846171Z",
     "iopub.status.busy": "2024-04-14T10:21:38.845735Z",
     "iopub.status.idle": "2024-04-14T10:21:38.854033Z",
     "shell.execute_reply": "2024-04-14T10:21:38.852615Z"
    },
    "papermill": {
     "duration": 0.019924,
     "end_time": "2024-04-14T10:21:38.856512",
     "exception": false,
     "start_time": "2024-04-14T10:21:38.836588",
     "status": "completed"
    },
    "tags": []
   },
   "outputs": [
    {
     "data": {
      "text/plain": [
       "(940, 15)"
      ]
     },
     "execution_count": 4,
     "metadata": {},
     "output_type": "execute_result"
    }
   ],
   "source": [
    "#checking basic info about dataset\n",
    "df.shape"
   ]
  },
  {
   "cell_type": "code",
   "execution_count": 5,
   "id": "1c902c10",
   "metadata": {
    "execution": {
     "iopub.execute_input": "2024-04-14T10:21:38.871938Z",
     "iopub.status.busy": "2024-04-14T10:21:38.871493Z",
     "iopub.status.idle": "2024-04-14T10:21:38.878950Z",
     "shell.execute_reply": "2024-04-14T10:21:38.877793Z"
    },
    "papermill": {
     "duration": 0.017855,
     "end_time": "2024-04-14T10:21:38.881224",
     "exception": false,
     "start_time": "2024-04-14T10:21:38.863369",
     "status": "completed"
    },
    "tags": []
   },
   "outputs": [
    {
     "data": {
      "text/plain": [
       "Index(['Id', 'ActivityDate', 'TotalSteps', 'TotalDistance', 'TrackerDistance',\n",
       "       'LoggedActivitiesDistance', 'VeryActiveDistance',\n",
       "       'ModeratelyActiveDistance', 'LightActiveDistance',\n",
       "       'SedentaryActiveDistance', 'VeryActiveMinutes', 'FairlyActiveMinutes',\n",
       "       'LightlyActiveMinutes', 'SedentaryMinutes', 'Calories'],\n",
       "      dtype='object')"
      ]
     },
     "execution_count": 5,
     "metadata": {},
     "output_type": "execute_result"
    }
   ],
   "source": [
    "df.columns"
   ]
  },
  {
   "cell_type": "code",
   "execution_count": 6,
   "id": "1c891ce7",
   "metadata": {
    "execution": {
     "iopub.execute_input": "2024-04-14T10:21:38.898457Z",
     "iopub.status.busy": "2024-04-14T10:21:38.897295Z",
     "iopub.status.idle": "2024-04-14T10:21:38.925278Z",
     "shell.execute_reply": "2024-04-14T10:21:38.924085Z"
    },
    "papermill": {
     "duration": 0.039419,
     "end_time": "2024-04-14T10:21:38.927684",
     "exception": false,
     "start_time": "2024-04-14T10:21:38.888265",
     "status": "completed"
    },
    "tags": []
   },
   "outputs": [
    {
     "data": {
      "text/html": [
       "<div>\n",
       "<style scoped>\n",
       "    .dataframe tbody tr th:only-of-type {\n",
       "        vertical-align: middle;\n",
       "    }\n",
       "\n",
       "    .dataframe tbody tr th {\n",
       "        vertical-align: top;\n",
       "    }\n",
       "\n",
       "    .dataframe thead th {\n",
       "        text-align: right;\n",
       "    }\n",
       "</style>\n",
       "<table border=\"1\" class=\"dataframe\">\n",
       "  <thead>\n",
       "    <tr style=\"text-align: right;\">\n",
       "      <th></th>\n",
       "      <th>Id</th>\n",
       "      <th>ActivityDate</th>\n",
       "      <th>TotalSteps</th>\n",
       "      <th>TotalDistance</th>\n",
       "      <th>TrackerDistance</th>\n",
       "      <th>LoggedActivitiesDistance</th>\n",
       "      <th>VeryActiveDistance</th>\n",
       "      <th>ModeratelyActiveDistance</th>\n",
       "      <th>LightActiveDistance</th>\n",
       "      <th>SedentaryActiveDistance</th>\n",
       "      <th>VeryActiveMinutes</th>\n",
       "      <th>FairlyActiveMinutes</th>\n",
       "      <th>LightlyActiveMinutes</th>\n",
       "      <th>SedentaryMinutes</th>\n",
       "      <th>Calories</th>\n",
       "    </tr>\n",
       "  </thead>\n",
       "  <tbody>\n",
       "    <tr>\n",
       "      <th>0</th>\n",
       "      <td>1503960366</td>\n",
       "      <td>4/12/2016</td>\n",
       "      <td>13162</td>\n",
       "      <td>8.50</td>\n",
       "      <td>8.50</td>\n",
       "      <td>0.0</td>\n",
       "      <td>1.88</td>\n",
       "      <td>0.55</td>\n",
       "      <td>6.06</td>\n",
       "      <td>0.0</td>\n",
       "      <td>25</td>\n",
       "      <td>13</td>\n",
       "      <td>328</td>\n",
       "      <td>728</td>\n",
       "      <td>1985</td>\n",
       "    </tr>\n",
       "    <tr>\n",
       "      <th>1</th>\n",
       "      <td>1503960366</td>\n",
       "      <td>4/13/2016</td>\n",
       "      <td>10735</td>\n",
       "      <td>6.97</td>\n",
       "      <td>6.97</td>\n",
       "      <td>0.0</td>\n",
       "      <td>1.57</td>\n",
       "      <td>0.69</td>\n",
       "      <td>4.71</td>\n",
       "      <td>0.0</td>\n",
       "      <td>21</td>\n",
       "      <td>19</td>\n",
       "      <td>217</td>\n",
       "      <td>776</td>\n",
       "      <td>1797</td>\n",
       "    </tr>\n",
       "    <tr>\n",
       "      <th>2</th>\n",
       "      <td>1503960366</td>\n",
       "      <td>4/14/2016</td>\n",
       "      <td>10460</td>\n",
       "      <td>6.74</td>\n",
       "      <td>6.74</td>\n",
       "      <td>0.0</td>\n",
       "      <td>2.44</td>\n",
       "      <td>0.40</td>\n",
       "      <td>3.91</td>\n",
       "      <td>0.0</td>\n",
       "      <td>30</td>\n",
       "      <td>11</td>\n",
       "      <td>181</td>\n",
       "      <td>1218</td>\n",
       "      <td>1776</td>\n",
       "    </tr>\n",
       "  </tbody>\n",
       "</table>\n",
       "</div>"
      ],
      "text/plain": [
       "           Id ActivityDate  TotalSteps  TotalDistance  TrackerDistance  \\\n",
       "0  1503960366    4/12/2016       13162           8.50             8.50   \n",
       "1  1503960366    4/13/2016       10735           6.97             6.97   \n",
       "2  1503960366    4/14/2016       10460           6.74             6.74   \n",
       "\n",
       "   LoggedActivitiesDistance  VeryActiveDistance  ModeratelyActiveDistance  \\\n",
       "0                       0.0                1.88                      0.55   \n",
       "1                       0.0                1.57                      0.69   \n",
       "2                       0.0                2.44                      0.40   \n",
       "\n",
       "   LightActiveDistance  SedentaryActiveDistance  VeryActiveMinutes  \\\n",
       "0                 6.06                      0.0                 25   \n",
       "1                 4.71                      0.0                 21   \n",
       "2                 3.91                      0.0                 30   \n",
       "\n",
       "   FairlyActiveMinutes  LightlyActiveMinutes  SedentaryMinutes  Calories  \n",
       "0                   13                   328               728      1985  \n",
       "1                   19                   217               776      1797  \n",
       "2                   11                   181              1218      1776  "
      ]
     },
     "execution_count": 6,
     "metadata": {},
     "output_type": "execute_result"
    }
   ],
   "source": [
    "df.head(3)"
   ]
  },
  {
   "cell_type": "code",
   "execution_count": 7,
   "id": "b6b6a11e",
   "metadata": {
    "execution": {
     "iopub.execute_input": "2024-04-14T10:21:38.944241Z",
     "iopub.status.busy": "2024-04-14T10:21:38.943755Z",
     "iopub.status.idle": "2024-04-14T10:21:38.952826Z",
     "shell.execute_reply": "2024-04-14T10:21:38.951486Z"
    },
    "papermill": {
     "duration": 0.020659,
     "end_time": "2024-04-14T10:21:38.955219",
     "exception": false,
     "start_time": "2024-04-14T10:21:38.934560",
     "status": "completed"
    },
    "tags": []
   },
   "outputs": [
    {
     "data": {
      "text/plain": [
       "Id                            int64\n",
       "ActivityDate                 object\n",
       "TotalSteps                    int64\n",
       "TotalDistance               float64\n",
       "TrackerDistance             float64\n",
       "LoggedActivitiesDistance    float64\n",
       "VeryActiveDistance          float64\n",
       "ModeratelyActiveDistance    float64\n",
       "LightActiveDistance         float64\n",
       "SedentaryActiveDistance     float64\n",
       "VeryActiveMinutes             int64\n",
       "FairlyActiveMinutes           int64\n",
       "LightlyActiveMinutes          int64\n",
       "SedentaryMinutes              int64\n",
       "Calories                      int64\n",
       "dtype: object"
      ]
     },
     "execution_count": 7,
     "metadata": {},
     "output_type": "execute_result"
    }
   ],
   "source": [
    "df.dtypes"
   ]
  },
  {
   "cell_type": "code",
   "execution_count": 8,
   "id": "84dd2d77",
   "metadata": {
    "execution": {
     "iopub.execute_input": "2024-04-14T10:21:38.971015Z",
     "iopub.status.busy": "2024-04-14T10:21:38.970606Z",
     "iopub.status.idle": "2024-04-14T10:21:38.999636Z",
     "shell.execute_reply": "2024-04-14T10:21:38.997978Z"
    },
    "papermill": {
     "duration": 0.040149,
     "end_time": "2024-04-14T10:21:39.002400",
     "exception": false,
     "start_time": "2024-04-14T10:21:38.962251",
     "status": "completed"
    },
    "tags": []
   },
   "outputs": [
    {
     "name": "stdout",
     "output_type": "stream",
     "text": [
      "<class 'pandas.core.frame.DataFrame'>\n",
      "RangeIndex: 940 entries, 0 to 939\n",
      "Data columns (total 15 columns):\n",
      " #   Column                    Non-Null Count  Dtype  \n",
      "---  ------                    --------------  -----  \n",
      " 0   Id                        940 non-null    int64  \n",
      " 1   ActivityDate              940 non-null    object \n",
      " 2   TotalSteps                940 non-null    int64  \n",
      " 3   TotalDistance             940 non-null    float64\n",
      " 4   TrackerDistance           940 non-null    float64\n",
      " 5   LoggedActivitiesDistance  940 non-null    float64\n",
      " 6   VeryActiveDistance        940 non-null    float64\n",
      " 7   ModeratelyActiveDistance  940 non-null    float64\n",
      " 8   LightActiveDistance       940 non-null    float64\n",
      " 9   SedentaryActiveDistance   940 non-null    float64\n",
      " 10  VeryActiveMinutes         940 non-null    int64  \n",
      " 11  FairlyActiveMinutes       940 non-null    int64  \n",
      " 12  LightlyActiveMinutes      940 non-null    int64  \n",
      " 13  SedentaryMinutes          940 non-null    int64  \n",
      " 14  Calories                  940 non-null    int64  \n",
      "dtypes: float64(7), int64(7), object(1)\n",
      "memory usage: 110.3+ KB\n"
     ]
    }
   ],
   "source": [
    "df.info()"
   ]
  },
  {
   "cell_type": "code",
   "execution_count": 9,
   "id": "099b3e4c",
   "metadata": {
    "execution": {
     "iopub.execute_input": "2024-04-14T10:21:39.023037Z",
     "iopub.status.busy": "2024-04-14T10:21:39.022312Z",
     "iopub.status.idle": "2024-04-14T10:21:39.037154Z",
     "shell.execute_reply": "2024-04-14T10:21:39.036250Z"
    },
    "papermill": {
     "duration": 0.026374,
     "end_time": "2024-04-14T10:21:39.039537",
     "exception": false,
     "start_time": "2024-04-14T10:21:39.013163",
     "status": "completed"
    },
    "tags": []
   },
   "outputs": [
    {
     "data": {
      "text/plain": [
       "Id                                  object\n",
       "ActivityDate                datetime64[ns]\n",
       "TotalSteps                           int64\n",
       "TotalDistance                      float64\n",
       "TrackerDistance                    float64\n",
       "LoggedActivitiesDistance           float64\n",
       "VeryActiveDistance                 float64\n",
       "ModeratelyActiveDistance           float64\n",
       "LightActiveDistance                float64\n",
       "SedentaryActiveDistance            float64\n",
       "VeryActiveMinutes                    int64\n",
       "FairlyActiveMinutes                  int64\n",
       "LightlyActiveMinutes                 int64\n",
       "SedentaryMinutes                     int64\n",
       "Calories                             int64\n",
       "dtype: object"
      ]
     },
     "execution_count": 9,
     "metadata": {},
     "output_type": "execute_result"
    }
   ],
   "source": [
    "#Changing data types [Cleaning data]\n",
    "df['Id'] = df['Id'].astype(str)\n",
    "df['ActivityDate'] = pd.to_datetime(df['ActivityDate'],format='%m/%d/%Y')\n",
    "df.dtypes"
   ]
  },
  {
   "cell_type": "code",
   "execution_count": 10,
   "id": "f5d6d3ae",
   "metadata": {
    "execution": {
     "iopub.execute_input": "2024-04-14T10:21:39.056368Z",
     "iopub.status.busy": "2024-04-14T10:21:39.055433Z",
     "iopub.status.idle": "2024-04-14T10:21:39.063257Z",
     "shell.execute_reply": "2024-04-14T10:21:39.062427Z"
    },
    "papermill": {
     "duration": 0.018733,
     "end_time": "2024-04-14T10:21:39.065550",
     "exception": false,
     "start_time": "2024-04-14T10:21:39.046817",
     "status": "completed"
    },
    "tags": []
   },
   "outputs": [
    {
     "data": {
      "text/plain": [
       "Id                          0\n",
       "ActivityDate                0\n",
       "TotalSteps                  0\n",
       "TotalDistance               0\n",
       "TrackerDistance             0\n",
       "LoggedActivitiesDistance    0\n",
       "VeryActiveDistance          0\n",
       "ModeratelyActiveDistance    0\n",
       "LightActiveDistance         0\n",
       "SedentaryActiveDistance     0\n",
       "VeryActiveMinutes           0\n",
       "FairlyActiveMinutes         0\n",
       "LightlyActiveMinutes        0\n",
       "SedentaryMinutes            0\n",
       "Calories                    0\n",
       "dtype: int64"
      ]
     },
     "execution_count": 10,
     "metadata": {},
     "output_type": "execute_result"
    }
   ],
   "source": [
    "#Checking if our dataset have null values\n",
    "df.isna().sum()"
   ]
  },
  {
   "cell_type": "code",
   "execution_count": 11,
   "id": "53ed12e3",
   "metadata": {
    "execution": {
     "iopub.execute_input": "2024-04-14T10:21:39.083582Z",
     "iopub.status.busy": "2024-04-14T10:21:39.082912Z",
     "iopub.status.idle": "2024-04-14T10:21:39.092346Z",
     "shell.execute_reply": "2024-04-14T10:21:39.091449Z"
    },
    "papermill": {
     "duration": 0.021747,
     "end_time": "2024-04-14T10:21:39.094713",
     "exception": false,
     "start_time": "2024-04-14T10:21:39.072966",
     "status": "completed"
    },
    "tags": []
   },
   "outputs": [
    {
     "data": {
      "text/plain": [
       "0"
      ]
     },
     "execution_count": 11,
     "metadata": {},
     "output_type": "execute_result"
    }
   ],
   "source": [
    "#checking duplicates\n",
    "df.duplicated().sum()"
   ]
  },
  {
   "cell_type": "code",
   "execution_count": 12,
   "id": "0ef14fa7",
   "metadata": {
    "execution": {
     "iopub.execute_input": "2024-04-14T10:21:39.113504Z",
     "iopub.status.busy": "2024-04-14T10:21:39.112816Z",
     "iopub.status.idle": "2024-04-14T10:21:39.120086Z",
     "shell.execute_reply": "2024-04-14T10:21:39.118531Z"
    },
    "papermill": {
     "duration": 0.01963,
     "end_time": "2024-04-14T10:21:39.122833",
     "exception": false,
     "start_time": "2024-04-14T10:21:39.103203",
     "status": "completed"
    },
    "tags": []
   },
   "outputs": [
    {
     "name": "stdout",
     "output_type": "stream",
     "text": [
      "Count of matches: 925\n"
     ]
    }
   ],
   "source": [
    "# Checking if TotalDistance and TrackerDistance have a same values \n",
    "count_matches = 0\n",
    "for index, (total_distance, tracker_distance) in enumerate(zip(df['TotalDistance'], df['TrackerDistance'])):\n",
    "    if total_distance == tracker_distance:\n",
    "        count_matches += 1\n",
    "        \n",
    "print(\"Count of matches:\", count_matches)"
   ]
  },
  {
   "cell_type": "markdown",
   "id": "547a50a7",
   "metadata": {
    "papermill": {
     "duration": 0.007489,
     "end_time": "2024-04-14T10:21:39.138750",
     "exception": false,
     "start_time": "2024-04-14T10:21:39.131261",
     "status": "completed"
    },
    "tags": []
   },
   "source": [
    "Mostly records are exactly the same but 15 records are different 940 != 925 (Why they are different though?)"
   ]
  },
  {
   "cell_type": "markdown",
   "id": "c21df500",
   "metadata": {
    "papermill": {
     "duration": 0.008491,
     "end_time": "2024-04-14T10:21:39.155133",
     "exception": false,
     "start_time": "2024-04-14T10:21:39.146642",
     "status": "completed"
    },
    "tags": []
   },
   "source": [
    "Checking if LoggedActivitiesDistance,\n",
    "VeryActiveDistance, ModeratelyActiveDistance, \n",
    "LightActiveDistance, SedentaryActiveDistance\n",
    "are a sum for Tracker Distance (lets see)"
   ]
  },
  {
   "cell_type": "code",
   "execution_count": 13,
   "id": "c5384480",
   "metadata": {
    "execution": {
     "iopub.execute_input": "2024-04-14T10:21:39.172522Z",
     "iopub.status.busy": "2024-04-14T10:21:39.172128Z",
     "iopub.status.idle": "2024-04-14T10:21:39.180320Z",
     "shell.execute_reply": "2024-04-14T10:21:39.178956Z"
    },
    "papermill": {
     "duration": 0.020571,
     "end_time": "2024-04-14T10:21:39.183494",
     "exception": false,
     "start_time": "2024-04-14T10:21:39.162923",
     "status": "completed"
    },
    "tags": []
   },
   "outputs": [
    {
     "name": "stdout",
     "output_type": "stream",
     "text": [
      "Matches of count: 304\n"
     ]
    }
   ],
   "source": [
    "sumofmatches = 0\n",
    "for index, (loggedactivites, activedistance,moderatelydistance,lightdistance,sedentarydistance,tracker_distance) in enumerate(zip(df['LoggedActivitiesDistance'], df['VeryActiveDistance'],df['ModeratelyActiveDistance'],\n",
    "                 df['LightActiveDistance'],df['SedentaryActiveDistance'],df['TrackerDistance'])):\n",
    "    if loggedactivites + activedistance + moderatelydistance+ lightdistance+ sedentarydistance ==tracker_distance:\n",
    "        sumofmatches += 1\n",
    "print(f'Matches of count: {sumofmatches}') "
   ]
  },
  {
   "cell_type": "markdown",
   "id": "0af454e0",
   "metadata": {
    "papermill": {
     "duration": 0.007337,
     "end_time": "2024-04-14T10:21:39.198356",
     "exception": false,
     "start_time": "2024-04-14T10:21:39.191019",
     "status": "completed"
    },
    "tags": []
   },
   "source": [
    "As we can see sum of all related(?) columns gives us 304 same results as TrackerDistance"
   ]
  },
  {
   "cell_type": "code",
   "execution_count": 14,
   "id": "5be4c709",
   "metadata": {
    "execution": {
     "iopub.execute_input": "2024-04-14T10:21:39.215026Z",
     "iopub.status.busy": "2024-04-14T10:21:39.214632Z",
     "iopub.status.idle": "2024-04-14T10:21:39.227094Z",
     "shell.execute_reply": "2024-04-14T10:21:39.225835Z"
    },
    "papermill": {
     "duration": 0.023413,
     "end_time": "2024-04-14T10:21:39.229297",
     "exception": false,
     "start_time": "2024-04-14T10:21:39.205884",
     "status": "completed"
    },
    "tags": []
   },
   "outputs": [
    {
     "data": {
      "text/plain": [
       "distance_diff\n",
       "0.000000    925\n",
       "1.830000      1\n",
       "0.190001      1\n",
       "0.040000      1\n",
       "0.810000      1\n",
       "1.049999      1\n",
       "0.760000      1\n",
       "1.070000      1\n",
       "0.980000      1\n",
       "0.900001      1\n",
       "1.140000      1\n",
       "1.160000      1\n",
       "0.880000      1\n",
       "0.460000      1\n",
       "1.160000      1\n",
       "1.060000      1\n",
       "Name: count, dtype: int64"
      ]
     },
     "execution_count": 14,
     "metadata": {},
     "output_type": "execute_result"
    }
   ],
   "source": [
    "#Lets make a new column\n",
    "df['distance_diff'] = df['TotalDistance'] - df['TrackerDistance']\n",
    "df['distance_diff'].value_counts()"
   ]
  },
  {
   "cell_type": "code",
   "execution_count": 15,
   "id": "cbb9d11d",
   "metadata": {
    "execution": {
     "iopub.execute_input": "2024-04-14T10:21:39.246678Z",
     "iopub.status.busy": "2024-04-14T10:21:39.246307Z",
     "iopub.status.idle": "2024-04-14T10:21:39.276182Z",
     "shell.execute_reply": "2024-04-14T10:21:39.274913Z"
    },
    "papermill": {
     "duration": 0.04155,
     "end_time": "2024-04-14T10:21:39.278570",
     "exception": false,
     "start_time": "2024-04-14T10:21:39.237020",
     "status": "completed"
    },
    "tags": []
   },
   "outputs": [
    {
     "data": {
      "text/html": [
       "<div>\n",
       "<style scoped>\n",
       "    .dataframe tbody tr th:only-of-type {\n",
       "        vertical-align: middle;\n",
       "    }\n",
       "\n",
       "    .dataframe tbody tr th {\n",
       "        vertical-align: top;\n",
       "    }\n",
       "\n",
       "    .dataframe thead th {\n",
       "        text-align: right;\n",
       "    }\n",
       "</style>\n",
       "<table border=\"1\" class=\"dataframe\">\n",
       "  <thead>\n",
       "    <tr style=\"text-align: right;\">\n",
       "      <th></th>\n",
       "      <th>Id</th>\n",
       "      <th>ActivityDate</th>\n",
       "      <th>TotalSteps</th>\n",
       "      <th>TotalDistance</th>\n",
       "      <th>TrackerDistance</th>\n",
       "      <th>LoggedActivitiesDistance</th>\n",
       "      <th>VeryActiveDistance</th>\n",
       "      <th>ModeratelyActiveDistance</th>\n",
       "      <th>LightActiveDistance</th>\n",
       "      <th>SedentaryActiveDistance</th>\n",
       "      <th>VeryActiveMinutes</th>\n",
       "      <th>FairlyActiveMinutes</th>\n",
       "      <th>LightlyActiveMinutes</th>\n",
       "      <th>SedentaryMinutes</th>\n",
       "      <th>Calories</th>\n",
       "      <th>distance_diff</th>\n",
       "    </tr>\n",
       "  </thead>\n",
       "  <tbody>\n",
       "    <tr>\n",
       "      <th>731</th>\n",
       "      <td>7007744171</td>\n",
       "      <td>2016-05-02</td>\n",
       "      <td>13041</td>\n",
       "      <td>9.18</td>\n",
       "      <td>8.72</td>\n",
       "      <td>2.832326</td>\n",
       "      <td>4.64</td>\n",
       "      <td>0.70</td>\n",
       "      <td>3.83</td>\n",
       "      <td>0.0</td>\n",
       "      <td>64</td>\n",
       "      <td>14</td>\n",
       "      <td>250</td>\n",
       "      <td>1112</td>\n",
       "      <td>2642</td>\n",
       "      <td>0.46</td>\n",
       "    </tr>\n",
       "    <tr>\n",
       "      <th>732</th>\n",
       "      <td>7007744171</td>\n",
       "      <td>2016-05-03</td>\n",
       "      <td>14510</td>\n",
       "      <td>10.87</td>\n",
       "      <td>9.71</td>\n",
       "      <td>4.912368</td>\n",
       "      <td>4.48</td>\n",
       "      <td>1.02</td>\n",
       "      <td>5.36</td>\n",
       "      <td>0.0</td>\n",
       "      <td>58</td>\n",
       "      <td>31</td>\n",
       "      <td>330</td>\n",
       "      <td>1021</td>\n",
       "      <td>2976</td>\n",
       "      <td>1.16</td>\n",
       "    </tr>\n",
       "    <tr>\n",
       "      <th>734</th>\n",
       "      <td>7007744171</td>\n",
       "      <td>2016-05-05</td>\n",
       "      <td>15010</td>\n",
       "      <td>11.10</td>\n",
       "      <td>10.04</td>\n",
       "      <td>4.878232</td>\n",
       "      <td>4.33</td>\n",
       "      <td>1.29</td>\n",
       "      <td>5.48</td>\n",
       "      <td>0.0</td>\n",
       "      <td>53</td>\n",
       "      <td>23</td>\n",
       "      <td>317</td>\n",
       "      <td>1047</td>\n",
       "      <td>2933</td>\n",
       "      <td>1.06</td>\n",
       "    </tr>\n",
       "  </tbody>\n",
       "</table>\n",
       "</div>"
      ],
      "text/plain": [
       "             Id ActivityDate  TotalSteps  TotalDistance  TrackerDistance  \\\n",
       "731  7007744171   2016-05-02       13041           9.18             8.72   \n",
       "732  7007744171   2016-05-03       14510          10.87             9.71   \n",
       "734  7007744171   2016-05-05       15010          11.10            10.04   \n",
       "\n",
       "     LoggedActivitiesDistance  VeryActiveDistance  ModeratelyActiveDistance  \\\n",
       "731                  2.832326                4.64                      0.70   \n",
       "732                  4.912368                4.48                      1.02   \n",
       "734                  4.878232                4.33                      1.29   \n",
       "\n",
       "     LightActiveDistance  SedentaryActiveDistance  VeryActiveMinutes  \\\n",
       "731                 3.83                      0.0                 64   \n",
       "732                 5.36                      0.0                 58   \n",
       "734                 5.48                      0.0                 53   \n",
       "\n",
       "     FairlyActiveMinutes  LightlyActiveMinutes  SedentaryMinutes  Calories  \\\n",
       "731                   14                   250              1112      2642   \n",
       "732                   31                   330              1021      2976   \n",
       "734                   23                   317              1047      2933   \n",
       "\n",
       "     distance_diff  \n",
       "731           0.46  \n",
       "732           1.16  \n",
       "734           1.06  "
      ]
     },
     "execution_count": 15,
     "metadata": {},
     "output_type": "execute_result"
    }
   ],
   "source": [
    "df.query('distance_diff > 0.0').tail(3)"
   ]
  },
  {
   "cell_type": "code",
   "execution_count": 16,
   "id": "7908c8ed",
   "metadata": {
    "execution": {
     "iopub.execute_input": "2024-04-14T10:21:39.296775Z",
     "iopub.status.busy": "2024-04-14T10:21:39.296387Z",
     "iopub.status.idle": "2024-04-14T10:21:39.322178Z",
     "shell.execute_reply": "2024-04-14T10:21:39.321327Z"
    },
    "papermill": {
     "duration": 0.037412,
     "end_time": "2024-04-14T10:21:39.324388",
     "exception": false,
     "start_time": "2024-04-14T10:21:39.286976",
     "status": "completed"
    },
    "tags": []
   },
   "outputs": [
    {
     "data": {
      "text/html": [
       "<div>\n",
       "<style scoped>\n",
       "    .dataframe tbody tr th:only-of-type {\n",
       "        vertical-align: middle;\n",
       "    }\n",
       "\n",
       "    .dataframe tbody tr th {\n",
       "        vertical-align: top;\n",
       "    }\n",
       "\n",
       "    .dataframe thead th {\n",
       "        text-align: right;\n",
       "    }\n",
       "</style>\n",
       "<table border=\"1\" class=\"dataframe\">\n",
       "  <thead>\n",
       "    <tr style=\"text-align: right;\">\n",
       "      <th></th>\n",
       "      <th>Id</th>\n",
       "      <th>ActivityDate</th>\n",
       "      <th>TotalSteps</th>\n",
       "      <th>TotalDistance</th>\n",
       "      <th>TrackerDistance</th>\n",
       "      <th>LoggedActivitiesDistance</th>\n",
       "      <th>VeryActiveDistance</th>\n",
       "      <th>ModeratelyActiveDistance</th>\n",
       "      <th>LightActiveDistance</th>\n",
       "      <th>SedentaryActiveDistance</th>\n",
       "      <th>VeryActiveMinutes</th>\n",
       "      <th>FairlyActiveMinutes</th>\n",
       "      <th>LightlyActiveMinutes</th>\n",
       "      <th>SedentaryMinutes</th>\n",
       "      <th>Calories</th>\n",
       "      <th>distance_diff</th>\n",
       "    </tr>\n",
       "  </thead>\n",
       "  <tbody>\n",
       "    <tr>\n",
       "      <th>0</th>\n",
       "      <td>1503960366</td>\n",
       "      <td>2016-04-12</td>\n",
       "      <td>13162</td>\n",
       "      <td>8.50</td>\n",
       "      <td>8.50</td>\n",
       "      <td>0.0</td>\n",
       "      <td>1.88</td>\n",
       "      <td>0.55</td>\n",
       "      <td>6.06</td>\n",
       "      <td>0.0</td>\n",
       "      <td>25</td>\n",
       "      <td>13</td>\n",
       "      <td>328</td>\n",
       "      <td>728</td>\n",
       "      <td>1985</td>\n",
       "      <td>0.0</td>\n",
       "    </tr>\n",
       "    <tr>\n",
       "      <th>1</th>\n",
       "      <td>1503960366</td>\n",
       "      <td>2016-04-13</td>\n",
       "      <td>10735</td>\n",
       "      <td>6.97</td>\n",
       "      <td>6.97</td>\n",
       "      <td>0.0</td>\n",
       "      <td>1.57</td>\n",
       "      <td>0.69</td>\n",
       "      <td>4.71</td>\n",
       "      <td>0.0</td>\n",
       "      <td>21</td>\n",
       "      <td>19</td>\n",
       "      <td>217</td>\n",
       "      <td>776</td>\n",
       "      <td>1797</td>\n",
       "      <td>0.0</td>\n",
       "    </tr>\n",
       "    <tr>\n",
       "      <th>2</th>\n",
       "      <td>1503960366</td>\n",
       "      <td>2016-04-14</td>\n",
       "      <td>10460</td>\n",
       "      <td>6.74</td>\n",
       "      <td>6.74</td>\n",
       "      <td>0.0</td>\n",
       "      <td>2.44</td>\n",
       "      <td>0.40</td>\n",
       "      <td>3.91</td>\n",
       "      <td>0.0</td>\n",
       "      <td>30</td>\n",
       "      <td>11</td>\n",
       "      <td>181</td>\n",
       "      <td>1218</td>\n",
       "      <td>1776</td>\n",
       "      <td>0.0</td>\n",
       "    </tr>\n",
       "  </tbody>\n",
       "</table>\n",
       "</div>"
      ],
      "text/plain": [
       "           Id ActivityDate  TotalSteps  TotalDistance  TrackerDistance  \\\n",
       "0  1503960366   2016-04-12       13162           8.50             8.50   \n",
       "1  1503960366   2016-04-13       10735           6.97             6.97   \n",
       "2  1503960366   2016-04-14       10460           6.74             6.74   \n",
       "\n",
       "   LoggedActivitiesDistance  VeryActiveDistance  ModeratelyActiveDistance  \\\n",
       "0                       0.0                1.88                      0.55   \n",
       "1                       0.0                1.57                      0.69   \n",
       "2                       0.0                2.44                      0.40   \n",
       "\n",
       "   LightActiveDistance  SedentaryActiveDistance  VeryActiveMinutes  \\\n",
       "0                 6.06                      0.0                 25   \n",
       "1                 4.71                      0.0                 21   \n",
       "2                 3.91                      0.0                 30   \n",
       "\n",
       "   FairlyActiveMinutes  LightlyActiveMinutes  SedentaryMinutes  Calories  \\\n",
       "0                   13                   328               728      1985   \n",
       "1                   19                   217               776      1797   \n",
       "2                   11                   181              1218      1776   \n",
       "\n",
       "   distance_diff  \n",
       "0            0.0  \n",
       "1            0.0  \n",
       "2            0.0  "
      ]
     },
     "execution_count": 16,
     "metadata": {},
     "output_type": "execute_result"
    }
   ],
   "source": [
    "df.query('distance_diff == 0.0').head(3)"
   ]
  },
  {
   "cell_type": "markdown",
   "id": "8705405b",
   "metadata": {
    "papermill": {
     "duration": 0.008196,
     "end_time": "2024-04-14T10:21:39.341310",
     "exception": false,
     "start_time": "2024-04-14T10:21:39.333114",
     "status": "completed"
    },
    "tags": []
   },
   "source": [
    "As we can see LoggedActivitiesDistance when is 0.0 our distance_diff also is 0.0 but when its > 0.0 distance_diff also change to higher value\n",
    "\n",
    " Its telling us that these two columns TotalDistance != TrackerDistance are not the same "
   ]
  },
  {
   "cell_type": "code",
   "execution_count": 17,
   "id": "3e74131f",
   "metadata": {
    "execution": {
     "iopub.execute_input": "2024-04-14T10:21:39.360250Z",
     "iopub.status.busy": "2024-04-14T10:21:39.358886Z",
     "iopub.status.idle": "2024-04-14T10:21:39.364379Z",
     "shell.execute_reply": "2024-04-14T10:21:39.363435Z"
    },
    "papermill": {
     "duration": 0.017199,
     "end_time": "2024-04-14T10:21:39.366743",
     "exception": false,
     "start_time": "2024-04-14T10:21:39.349544",
     "status": "completed"
    },
    "tags": []
   },
   "outputs": [],
   "source": [
    "#Changing columns format \n",
    "df.columns = df.columns.str.title()"
   ]
  },
  {
   "cell_type": "code",
   "execution_count": 18,
   "id": "3d99eff8",
   "metadata": {
    "execution": {
     "iopub.execute_input": "2024-04-14T10:21:39.385880Z",
     "iopub.status.busy": "2024-04-14T10:21:39.384957Z",
     "iopub.status.idle": "2024-04-14T10:21:39.392601Z",
     "shell.execute_reply": "2024-04-14T10:21:39.391464Z"
    },
    "papermill": {
     "duration": 0.019904,
     "end_time": "2024-04-14T10:21:39.394926",
     "exception": false,
     "start_time": "2024-04-14T10:21:39.375022",
     "status": "completed"
    },
    "tags": []
   },
   "outputs": [
    {
     "data": {
      "text/plain": [
       "Index(['Id', 'Activitydate', 'Totalsteps', 'Totaldistance', 'Trackerdistance',\n",
       "       'Loggedactivitiesdistance', 'Veryactivedistance',\n",
       "       'Moderatelyactivedistance', 'Lightactivedistance',\n",
       "       'Sedentaryactivedistance', 'Veryactiveminutes', 'Fairlyactiveminutes',\n",
       "       'Lightlyactiveminutes', 'Sedentaryminutes', 'Calories',\n",
       "       'Distance_Diff'],\n",
       "      dtype='object')"
      ]
     },
     "execution_count": 18,
     "metadata": {},
     "output_type": "execute_result"
    }
   ],
   "source": [
    "df.columns"
   ]
  },
  {
   "cell_type": "code",
   "execution_count": 19,
   "id": "856aec3a",
   "metadata": {
    "execution": {
     "iopub.execute_input": "2024-04-14T10:21:39.413704Z",
     "iopub.status.busy": "2024-04-14T10:21:39.413336Z",
     "iopub.status.idle": "2024-04-14T10:21:39.420381Z",
     "shell.execute_reply": "2024-04-14T10:21:39.419256Z"
    },
    "papermill": {
     "duration": 0.019151,
     "end_time": "2024-04-14T10:21:39.422724",
     "exception": false,
     "start_time": "2024-04-14T10:21:39.403573",
     "status": "completed"
    },
    "tags": []
   },
   "outputs": [],
   "source": [
    "df.rename(columns={ 'Activitydate': 'Activity_Date', 'Totalsteps': 'Total_Steps', \n",
    "                   'Totaldistance': 'Total_Distance', 'Trackerdistance': 'Tracker_Distance',\n",
    "                   'Loggedactivitiesdistance': 'Logged_Activities_Distance', 'Veryactivedistance': 'Very_Active_Distance',\n",
    "                   'Moderatelyactivedistance': 'Moderately_Active_Distance', 'Lightactivedistance': 'Light_Active_Distance',\n",
    "                   'Sedentaryactivedistance': 'Sedentary_Active_Distance', 'Veryactiveminutes': 'Very_Active_Minutes', \n",
    "                   'Fairlyactiveminutes': 'Fairly_Active_Minutes', 'Lightlyactiveminutes': 'Lightly_Active_Minutes', \n",
    "                   'Sedentaryminutes': 'Sedentary_Minutes'}, \n",
    "          inplace=True)\n"
   ]
  },
  {
   "cell_type": "code",
   "execution_count": 20,
   "id": "cdbc2712",
   "metadata": {
    "execution": {
     "iopub.execute_input": "2024-04-14T10:21:39.441192Z",
     "iopub.status.busy": "2024-04-14T10:21:39.440802Z",
     "iopub.status.idle": "2024-04-14T10:21:39.448102Z",
     "shell.execute_reply": "2024-04-14T10:21:39.446905Z"
    },
    "papermill": {
     "duration": 0.019257,
     "end_time": "2024-04-14T10:21:39.450337",
     "exception": false,
     "start_time": "2024-04-14T10:21:39.431080",
     "status": "completed"
    },
    "tags": []
   },
   "outputs": [
    {
     "data": {
      "text/plain": [
       "Index(['Id', 'Activity_Date', 'Total_Steps', 'Total_Distance',\n",
       "       'Tracker_Distance', 'Logged_Activities_Distance',\n",
       "       'Very_Active_Distance', 'Moderately_Active_Distance',\n",
       "       'Light_Active_Distance', 'Sedentary_Active_Distance',\n",
       "       'Very_Active_Minutes', 'Fairly_Active_Minutes',\n",
       "       'Lightly_Active_Minutes', 'Sedentary_Minutes', 'Calories',\n",
       "       'Distance_Diff'],\n",
       "      dtype='object')"
      ]
     },
     "execution_count": 20,
     "metadata": {},
     "output_type": "execute_result"
    }
   ],
   "source": [
    "df.columns"
   ]
  },
  {
   "cell_type": "code",
   "execution_count": 21,
   "id": "055069a8",
   "metadata": {
    "execution": {
     "iopub.execute_input": "2024-04-14T10:21:39.468973Z",
     "iopub.status.busy": "2024-04-14T10:21:39.468572Z",
     "iopub.status.idle": "2024-04-14T10:21:39.476001Z",
     "shell.execute_reply": "2024-04-14T10:21:39.475143Z"
    },
    "papermill": {
     "duration": 0.019155,
     "end_time": "2024-04-14T10:21:39.478139",
     "exception": false,
     "start_time": "2024-04-14T10:21:39.458984",
     "status": "completed"
    },
    "tags": []
   },
   "outputs": [],
   "source": [
    "df['Day_of_the_week'] = df['Activity_Date'].dt.day_name()\n",
    "df['Number_of_week'] = df['Activity_Date'].dt.weekday"
   ]
  },
  {
   "cell_type": "code",
   "execution_count": 22,
   "id": "175feca6",
   "metadata": {
    "execution": {
     "iopub.execute_input": "2024-04-14T10:21:39.496962Z",
     "iopub.status.busy": "2024-04-14T10:21:39.496519Z",
     "iopub.status.idle": "2024-04-14T10:21:39.503404Z",
     "shell.execute_reply": "2024-04-14T10:21:39.502170Z"
    },
    "papermill": {
     "duration": 0.019084,
     "end_time": "2024-04-14T10:21:39.505736",
     "exception": false,
     "start_time": "2024-04-14T10:21:39.486652",
     "status": "completed"
    },
    "tags": []
   },
   "outputs": [],
   "source": [
    "df_subset = df[['Id', 'Activity_Date', 'Total_Steps', #'Total_Distance',\n",
    "       #'Tracker_Distance', 'Logged_Activities_Distance',\n",
    "       #'Very_Active_Distance', 'Moderately_Active_Distance',\n",
    "       #'Light_Active_Distance', 'Sedentary_Active_Distance',\n",
    "       'Very_Active_Minutes', 'Fairly_Active_Minutes',\n",
    "       'Lightly_Active_Minutes', 'Sedentary_Minutes', 'Calories']]"
   ]
  }
 ],
 "metadata": {
  "kaggle": {
   "accelerator": "none",
   "dataSources": [
    {
     "datasetId": 1041311,
     "sourceId": 7746251,
     "sourceType": "datasetVersion"
    }
   ],
   "dockerImageVersionId": 30684,
   "isGpuEnabled": false,
   "isInternetEnabled": true,
   "language": "python",
   "sourceType": "notebook"
  },
  "kernelspec": {
   "display_name": "Python 3",
   "language": "python",
   "name": "python3"
  },
  "language_info": {
   "codemirror_mode": {
    "name": "ipython",
    "version": 3
   },
   "file_extension": ".py",
   "mimetype": "text/x-python",
   "name": "python",
   "nbconvert_exporter": "python",
   "pygments_lexer": "ipython3",
   "version": "3.10.13"
  },
  "papermill": {
   "default_parameters": {},
   "duration": 10.111939,
   "end_time": "2024-04-14T10:21:42.616934",
   "environment_variables": {},
   "exception": null,
   "input_path": "__notebook__.ipynb",
   "output_path": "__notebook__.ipynb",
   "parameters": {},
   "start_time": "2024-04-14T10:21:32.504995",
   "version": "2.5.0"
  }
 },
 "nbformat": 4,
 "nbformat_minor": 5
}
