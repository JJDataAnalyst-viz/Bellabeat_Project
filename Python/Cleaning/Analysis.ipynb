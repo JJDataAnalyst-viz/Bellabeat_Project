{
 "cells": [
  {
   "cell_type": "code",
   "execution_count": 1,
   "id": "4ce4240e",
   "metadata": {
    "_cell_guid": "b1076dfc-b9ad-4769-8c92-a6c4dae69d19",
    "_uuid": "8f2839f25d086af736a60e9eeb907d3b93b6e0e5",
    "execution": {
     "iopub.execute_input": "2024-04-09T17:17:53.097244Z",
     "iopub.status.busy": "2024-04-09T17:17:53.096155Z",
     "iopub.status.idle": "2024-04-09T17:17:54.112606Z",
     "shell.execute_reply": "2024-04-09T17:17:54.110576Z"
    },
    "papermill": {
     "duration": 1.034225,
     "end_time": "2024-04-09T17:17:54.116083",
     "exception": false,
     "start_time": "2024-04-09T17:17:53.081858",
     "status": "completed"
    },
    "tags": []
   },
   "outputs": [
    {
     "name": "stdout",
     "output_type": "stream",
     "text": [
      "/kaggle/input/fitbit/mturkfitbit_export_3.12.16-4.11.16/Fitabase Data 3.12.16-4.11.16/minuteCaloriesNarrow_merged.csv\n",
      "/kaggle/input/fitbit/mturkfitbit_export_3.12.16-4.11.16/Fitabase Data 3.12.16-4.11.16/weightLogInfo_merged.csv\n",
      "/kaggle/input/fitbit/mturkfitbit_export_3.12.16-4.11.16/Fitabase Data 3.12.16-4.11.16/minuteMETsNarrow_merged.csv\n",
      "/kaggle/input/fitbit/mturkfitbit_export_3.12.16-4.11.16/Fitabase Data 3.12.16-4.11.16/hourlyCalories_merged.csv\n",
      "/kaggle/input/fitbit/mturkfitbit_export_3.12.16-4.11.16/Fitabase Data 3.12.16-4.11.16/heartrate_seconds_merged.csv\n",
      "/kaggle/input/fitbit/mturkfitbit_export_3.12.16-4.11.16/Fitabase Data 3.12.16-4.11.16/minuteSleep_merged.csv\n",
      "/kaggle/input/fitbit/mturkfitbit_export_3.12.16-4.11.16/Fitabase Data 3.12.16-4.11.16/hourlyIntensities_merged.csv\n",
      "/kaggle/input/fitbit/mturkfitbit_export_3.12.16-4.11.16/Fitabase Data 3.12.16-4.11.16/hourlySteps_merged.csv\n",
      "/kaggle/input/fitbit/mturkfitbit_export_3.12.16-4.11.16/Fitabase Data 3.12.16-4.11.16/minuteStepsNarrow_merged.csv\n",
      "/kaggle/input/fitbit/mturkfitbit_export_3.12.16-4.11.16/Fitabase Data 3.12.16-4.11.16/minuteIntensitiesNarrow_merged.csv\n",
      "/kaggle/input/fitbit/mturkfitbit_export_3.12.16-4.11.16/Fitabase Data 3.12.16-4.11.16/dailyActivity_merged.csv\n",
      "/kaggle/input/fitbit/mturkfitbit_export_4.12.16-5.12.16/Fitabase Data 4.12.16-5.12.16/minuteCaloriesNarrow_merged.csv\n",
      "/kaggle/input/fitbit/mturkfitbit_export_4.12.16-5.12.16/Fitabase Data 4.12.16-5.12.16/weightLogInfo_merged.csv\n",
      "/kaggle/input/fitbit/mturkfitbit_export_4.12.16-5.12.16/Fitabase Data 4.12.16-5.12.16/sleepDay_merged.csv\n",
      "/kaggle/input/fitbit/mturkfitbit_export_4.12.16-5.12.16/Fitabase Data 4.12.16-5.12.16/dailyIntensities_merged.csv\n",
      "/kaggle/input/fitbit/mturkfitbit_export_4.12.16-5.12.16/Fitabase Data 4.12.16-5.12.16/minuteIntensitiesWide_merged.csv\n",
      "/kaggle/input/fitbit/mturkfitbit_export_4.12.16-5.12.16/Fitabase Data 4.12.16-5.12.16/minuteMETsNarrow_merged.csv\n",
      "/kaggle/input/fitbit/mturkfitbit_export_4.12.16-5.12.16/Fitabase Data 4.12.16-5.12.16/dailyCalories_merged.csv\n",
      "/kaggle/input/fitbit/mturkfitbit_export_4.12.16-5.12.16/Fitabase Data 4.12.16-5.12.16/hourlyCalories_merged.csv\n",
      "/kaggle/input/fitbit/mturkfitbit_export_4.12.16-5.12.16/Fitabase Data 4.12.16-5.12.16/heartrate_seconds_merged.csv\n",
      "/kaggle/input/fitbit/mturkfitbit_export_4.12.16-5.12.16/Fitabase Data 4.12.16-5.12.16/minuteSleep_merged.csv\n",
      "/kaggle/input/fitbit/mturkfitbit_export_4.12.16-5.12.16/Fitabase Data 4.12.16-5.12.16/hourlyIntensities_merged.csv\n",
      "/kaggle/input/fitbit/mturkfitbit_export_4.12.16-5.12.16/Fitabase Data 4.12.16-5.12.16/hourlySteps_merged.csv\n",
      "/kaggle/input/fitbit/mturkfitbit_export_4.12.16-5.12.16/Fitabase Data 4.12.16-5.12.16/minuteStepsNarrow_merged.csv\n",
      "/kaggle/input/fitbit/mturkfitbit_export_4.12.16-5.12.16/Fitabase Data 4.12.16-5.12.16/dailySteps_merged.csv\n",
      "/kaggle/input/fitbit/mturkfitbit_export_4.12.16-5.12.16/Fitabase Data 4.12.16-5.12.16/minuteStepsWide_merged.csv\n",
      "/kaggle/input/fitbit/mturkfitbit_export_4.12.16-5.12.16/Fitabase Data 4.12.16-5.12.16/minuteIntensitiesNarrow_merged.csv\n",
      "/kaggle/input/fitbit/mturkfitbit_export_4.12.16-5.12.16/Fitabase Data 4.12.16-5.12.16/minuteCaloriesWide_merged.csv\n",
      "/kaggle/input/fitbit/mturkfitbit_export_4.12.16-5.12.16/Fitabase Data 4.12.16-5.12.16/dailyActivity_merged.csv\n"
     ]
    }
   ],
   "source": [
    "# This Python 3 environment comes with many helpful analytics libraries installed\n",
    "# It is defined by the kaggle/python Docker image: https://github.com/kaggle/docker-python\n",
    "# For example, here's several helpful packages to load\n",
    "\n",
    "import numpy as np # linear algebra\n",
    "import pandas as pd # data processing, CSV file I/O (e.g. pd.read_csv)\n",
    "\n",
    "# Input data files are available in the read-only \"../input/\" directory\n",
    "# For example, running this (by clicking run or pressing Shift+Enter) will list all files under the input directory\n",
    "\n",
    "import os\n",
    "for dirname, _, filenames in os.walk('/kaggle/input'):\n",
    "    for filename in filenames:\n",
    "        print(os.path.join(dirname, filename))\n",
    "\n",
    "# You can write up to 20GB to the current directory (/kaggle/working/) that gets preserved as output when you create a version using \"Save & Run All\" \n",
    "# You can also write temporary files to /kaggle/temp/, but they won't be saved outside of the current session"
   ]
  },
  {
   "cell_type": "code",
   "execution_count": 2,
   "id": "79b379e0",
   "metadata": {
    "execution": {
     "iopub.execute_input": "2024-04-09T17:17:54.141808Z",
     "iopub.status.busy": "2024-04-09T17:17:54.141010Z",
     "iopub.status.idle": "2024-04-09T17:17:56.464684Z",
     "shell.execute_reply": "2024-04-09T17:17:56.463386Z"
    },
    "papermill": {
     "duration": 2.339702,
     "end_time": "2024-04-09T17:17:56.467673",
     "exception": false,
     "start_time": "2024-04-09T17:17:54.127971",
     "status": "completed"
    },
    "tags": []
   },
   "outputs": [],
   "source": [
    "import numpy as np\n",
    "import pandas as pd\n",
    "import matplotlib.pyplot as plt\n",
    "import plotly.express as px\n",
    "import seaborn as sns\n",
    "import datetime as dt\n",
    "plt.style.use('ggplot')\n",
    "\n",
    "#option for seeing all columns\n",
    "\n",
    "#pd.set_option('max_column')"
   ]
  },
  {
   "cell_type": "code",
   "execution_count": 3,
   "id": "870a7311",
   "metadata": {
    "execution": {
     "iopub.execute_input": "2024-04-09T17:17:56.493106Z",
     "iopub.status.busy": "2024-04-09T17:17:56.492651Z",
     "iopub.status.idle": "2024-04-09T17:17:56.516774Z",
     "shell.execute_reply": "2024-04-09T17:17:56.515337Z"
    },
    "papermill": {
     "duration": 0.040051,
     "end_time": "2024-04-09T17:17:56.519599",
     "exception": false,
     "start_time": "2024-04-09T17:17:56.479548",
     "status": "completed"
    },
    "tags": []
   },
   "outputs": [],
   "source": [
    "df = pd.read_csv(\"/kaggle/input/fitbit/mturkfitbit_export_4.12.16-5.12.16/Fitabase Data 4.12.16-5.12.16/dailyActivity_merged.csv\")"
   ]
  },
  {
   "cell_type": "code",
   "execution_count": 4,
   "id": "d2eb96af",
   "metadata": {
    "execution": {
     "iopub.execute_input": "2024-04-09T17:17:56.545108Z",
     "iopub.status.busy": "2024-04-09T17:17:56.544631Z",
     "iopub.status.idle": "2024-04-09T17:17:56.553028Z",
     "shell.execute_reply": "2024-04-09T17:17:56.551914Z"
    },
    "papermill": {
     "duration": 0.024013,
     "end_time": "2024-04-09T17:17:56.555406",
     "exception": false,
     "start_time": "2024-04-09T17:17:56.531393",
     "status": "completed"
    },
    "tags": []
   },
   "outputs": [
    {
     "data": {
      "text/plain": [
       "(940, 15)"
      ]
     },
     "execution_count": 4,
     "metadata": {},
     "output_type": "execute_result"
    }
   ],
   "source": [
    "#checking basic info about dataset\n",
    "df.shape"
   ]
  },
  {
   "cell_type": "code",
   "execution_count": 5,
   "id": "2b4bbefa",
   "metadata": {
    "execution": {
     "iopub.execute_input": "2024-04-09T17:17:56.581155Z",
     "iopub.status.busy": "2024-04-09T17:17:56.580695Z",
     "iopub.status.idle": "2024-04-09T17:17:56.588201Z",
     "shell.execute_reply": "2024-04-09T17:17:56.587084Z"
    },
    "papermill": {
     "duration": 0.023196,
     "end_time": "2024-04-09T17:17:56.590435",
     "exception": false,
     "start_time": "2024-04-09T17:17:56.567239",
     "status": "completed"
    },
    "tags": []
   },
   "outputs": [
    {
     "data": {
      "text/plain": [
       "Index(['Id', 'ActivityDate', 'TotalSteps', 'TotalDistance', 'TrackerDistance',\n",
       "       'LoggedActivitiesDistance', 'VeryActiveDistance',\n",
       "       'ModeratelyActiveDistance', 'LightActiveDistance',\n",
       "       'SedentaryActiveDistance', 'VeryActiveMinutes', 'FairlyActiveMinutes',\n",
       "       'LightlyActiveMinutes', 'SedentaryMinutes', 'Calories'],\n",
       "      dtype='object')"
      ]
     },
     "execution_count": 5,
     "metadata": {},
     "output_type": "execute_result"
    }
   ],
   "source": [
    "df.columns"
   ]
  },
  {
   "cell_type": "code",
   "execution_count": 6,
   "id": "03915aaf",
   "metadata": {
    "execution": {
     "iopub.execute_input": "2024-04-09T17:17:56.616803Z",
     "iopub.status.busy": "2024-04-09T17:17:56.616319Z",
     "iopub.status.idle": "2024-04-09T17:17:56.646212Z",
     "shell.execute_reply": "2024-04-09T17:17:56.644920Z"
    },
    "papermill": {
     "duration": 0.046068,
     "end_time": "2024-04-09T17:17:56.648830",
     "exception": false,
     "start_time": "2024-04-09T17:17:56.602762",
     "status": "completed"
    },
    "tags": []
   },
   "outputs": [
    {
     "data": {
      "text/html": [
       "<div>\n",
       "<style scoped>\n",
       "    .dataframe tbody tr th:only-of-type {\n",
       "        vertical-align: middle;\n",
       "    }\n",
       "\n",
       "    .dataframe tbody tr th {\n",
       "        vertical-align: top;\n",
       "    }\n",
       "\n",
       "    .dataframe thead th {\n",
       "        text-align: right;\n",
       "    }\n",
       "</style>\n",
       "<table border=\"1\" class=\"dataframe\">\n",
       "  <thead>\n",
       "    <tr style=\"text-align: right;\">\n",
       "      <th></th>\n",
       "      <th>Id</th>\n",
       "      <th>ActivityDate</th>\n",
       "      <th>TotalSteps</th>\n",
       "      <th>TotalDistance</th>\n",
       "      <th>TrackerDistance</th>\n",
       "      <th>LoggedActivitiesDistance</th>\n",
       "      <th>VeryActiveDistance</th>\n",
       "      <th>ModeratelyActiveDistance</th>\n",
       "      <th>LightActiveDistance</th>\n",
       "      <th>SedentaryActiveDistance</th>\n",
       "      <th>VeryActiveMinutes</th>\n",
       "      <th>FairlyActiveMinutes</th>\n",
       "      <th>LightlyActiveMinutes</th>\n",
       "      <th>SedentaryMinutes</th>\n",
       "      <th>Calories</th>\n",
       "    </tr>\n",
       "  </thead>\n",
       "  <tbody>\n",
       "    <tr>\n",
       "      <th>0</th>\n",
       "      <td>1503960366</td>\n",
       "      <td>4/12/2016</td>\n",
       "      <td>13162</td>\n",
       "      <td>8.50</td>\n",
       "      <td>8.50</td>\n",
       "      <td>0.0</td>\n",
       "      <td>1.88</td>\n",
       "      <td>0.55</td>\n",
       "      <td>6.06</td>\n",
       "      <td>0.0</td>\n",
       "      <td>25</td>\n",
       "      <td>13</td>\n",
       "      <td>328</td>\n",
       "      <td>728</td>\n",
       "      <td>1985</td>\n",
       "    </tr>\n",
       "    <tr>\n",
       "      <th>1</th>\n",
       "      <td>1503960366</td>\n",
       "      <td>4/13/2016</td>\n",
       "      <td>10735</td>\n",
       "      <td>6.97</td>\n",
       "      <td>6.97</td>\n",
       "      <td>0.0</td>\n",
       "      <td>1.57</td>\n",
       "      <td>0.69</td>\n",
       "      <td>4.71</td>\n",
       "      <td>0.0</td>\n",
       "      <td>21</td>\n",
       "      <td>19</td>\n",
       "      <td>217</td>\n",
       "      <td>776</td>\n",
       "      <td>1797</td>\n",
       "    </tr>\n",
       "    <tr>\n",
       "      <th>2</th>\n",
       "      <td>1503960366</td>\n",
       "      <td>4/14/2016</td>\n",
       "      <td>10460</td>\n",
       "      <td>6.74</td>\n",
       "      <td>6.74</td>\n",
       "      <td>0.0</td>\n",
       "      <td>2.44</td>\n",
       "      <td>0.40</td>\n",
       "      <td>3.91</td>\n",
       "      <td>0.0</td>\n",
       "      <td>30</td>\n",
       "      <td>11</td>\n",
       "      <td>181</td>\n",
       "      <td>1218</td>\n",
       "      <td>1776</td>\n",
       "    </tr>\n",
       "  </tbody>\n",
       "</table>\n",
       "</div>"
      ],
      "text/plain": [
       "           Id ActivityDate  TotalSteps  TotalDistance  TrackerDistance  \\\n",
       "0  1503960366    4/12/2016       13162           8.50             8.50   \n",
       "1  1503960366    4/13/2016       10735           6.97             6.97   \n",
       "2  1503960366    4/14/2016       10460           6.74             6.74   \n",
       "\n",
       "   LoggedActivitiesDistance  VeryActiveDistance  ModeratelyActiveDistance  \\\n",
       "0                       0.0                1.88                      0.55   \n",
       "1                       0.0                1.57                      0.69   \n",
       "2                       0.0                2.44                      0.40   \n",
       "\n",
       "   LightActiveDistance  SedentaryActiveDistance  VeryActiveMinutes  \\\n",
       "0                 6.06                      0.0                 25   \n",
       "1                 4.71                      0.0                 21   \n",
       "2                 3.91                      0.0                 30   \n",
       "\n",
       "   FairlyActiveMinutes  LightlyActiveMinutes  SedentaryMinutes  Calories  \n",
       "0                   13                   328               728      1985  \n",
       "1                   19                   217               776      1797  \n",
       "2                   11                   181              1218      1776  "
      ]
     },
     "execution_count": 6,
     "metadata": {},
     "output_type": "execute_result"
    }
   ],
   "source": [
    "df.head(3)"
   ]
  },
  {
   "cell_type": "code",
   "execution_count": 7,
   "id": "3c2617f8",
   "metadata": {
    "execution": {
     "iopub.execute_input": "2024-04-09T17:17:56.676848Z",
     "iopub.status.busy": "2024-04-09T17:17:56.675727Z",
     "iopub.status.idle": "2024-04-09T17:17:56.685941Z",
     "shell.execute_reply": "2024-04-09T17:17:56.684616Z"
    },
    "papermill": {
     "duration": 0.026248,
     "end_time": "2024-04-09T17:17:56.688428",
     "exception": false,
     "start_time": "2024-04-09T17:17:56.662180",
     "status": "completed"
    },
    "tags": []
   },
   "outputs": [
    {
     "data": {
      "text/plain": [
       "Id                            int64\n",
       "ActivityDate                 object\n",
       "TotalSteps                    int64\n",
       "TotalDistance               float64\n",
       "TrackerDistance             float64\n",
       "LoggedActivitiesDistance    float64\n",
       "VeryActiveDistance          float64\n",
       "ModeratelyActiveDistance    float64\n",
       "LightActiveDistance         float64\n",
       "SedentaryActiveDistance     float64\n",
       "VeryActiveMinutes             int64\n",
       "FairlyActiveMinutes           int64\n",
       "LightlyActiveMinutes          int64\n",
       "SedentaryMinutes              int64\n",
       "Calories                      int64\n",
       "dtype: object"
      ]
     },
     "execution_count": 7,
     "metadata": {},
     "output_type": "execute_result"
    }
   ],
   "source": [
    "df.dtypes"
   ]
  },
  {
   "cell_type": "code",
   "execution_count": 8,
   "id": "f4540e28",
   "metadata": {
    "execution": {
     "iopub.execute_input": "2024-04-09T17:17:56.725641Z",
     "iopub.status.busy": "2024-04-09T17:17:56.724844Z",
     "iopub.status.idle": "2024-04-09T17:17:56.757862Z",
     "shell.execute_reply": "2024-04-09T17:17:56.756601Z"
    },
    "papermill": {
     "duration": 0.055296,
     "end_time": "2024-04-09T17:17:56.760431",
     "exception": false,
     "start_time": "2024-04-09T17:17:56.705135",
     "status": "completed"
    },
    "tags": []
   },
   "outputs": [
    {
     "name": "stdout",
     "output_type": "stream",
     "text": [
      "<class 'pandas.core.frame.DataFrame'>\n",
      "RangeIndex: 940 entries, 0 to 939\n",
      "Data columns (total 15 columns):\n",
      " #   Column                    Non-Null Count  Dtype  \n",
      "---  ------                    --------------  -----  \n",
      " 0   Id                        940 non-null    int64  \n",
      " 1   ActivityDate              940 non-null    object \n",
      " 2   TotalSteps                940 non-null    int64  \n",
      " 3   TotalDistance             940 non-null    float64\n",
      " 4   TrackerDistance           940 non-null    float64\n",
      " 5   LoggedActivitiesDistance  940 non-null    float64\n",
      " 6   VeryActiveDistance        940 non-null    float64\n",
      " 7   ModeratelyActiveDistance  940 non-null    float64\n",
      " 8   LightActiveDistance       940 non-null    float64\n",
      " 9   SedentaryActiveDistance   940 non-null    float64\n",
      " 10  VeryActiveMinutes         940 non-null    int64  \n",
      " 11  FairlyActiveMinutes       940 non-null    int64  \n",
      " 12  LightlyActiveMinutes      940 non-null    int64  \n",
      " 13  SedentaryMinutes          940 non-null    int64  \n",
      " 14  Calories                  940 non-null    int64  \n",
      "dtypes: float64(7), int64(7), object(1)\n",
      "memory usage: 110.3+ KB\n"
     ]
    }
   ],
   "source": [
    "df.info()"
   ]
  },
  {
   "cell_type": "code",
   "execution_count": 9,
   "id": "6a7aaf91",
   "metadata": {
    "execution": {
     "iopub.execute_input": "2024-04-09T17:17:56.788549Z",
     "iopub.status.busy": "2024-04-09T17:17:56.787212Z",
     "iopub.status.idle": "2024-04-09T17:17:56.806999Z",
     "shell.execute_reply": "2024-04-09T17:17:56.806067Z"
    },
    "papermill": {
     "duration": 0.036627,
     "end_time": "2024-04-09T17:17:56.809729",
     "exception": false,
     "start_time": "2024-04-09T17:17:56.773102",
     "status": "completed"
    },
    "tags": []
   },
   "outputs": [
    {
     "data": {
      "text/plain": [
       "Id                                  object\n",
       "ActivityDate                datetime64[ns]\n",
       "TotalSteps                           int64\n",
       "TotalDistance                      float64\n",
       "TrackerDistance                    float64\n",
       "LoggedActivitiesDistance           float64\n",
       "VeryActiveDistance                 float64\n",
       "ModeratelyActiveDistance           float64\n",
       "LightActiveDistance                float64\n",
       "SedentaryActiveDistance            float64\n",
       "VeryActiveMinutes                    int64\n",
       "FairlyActiveMinutes                  int64\n",
       "LightlyActiveMinutes                 int64\n",
       "SedentaryMinutes                     int64\n",
       "Calories                             int64\n",
       "dtype: object"
      ]
     },
     "execution_count": 9,
     "metadata": {},
     "output_type": "execute_result"
    }
   ],
   "source": [
    "#Changing data types [Cleaning data]\n",
    "df['Id'] = df['Id'].astype(str)\n",
    "df['ActivityDate'] = pd.to_datetime(df['ActivityDate'],format='%m/%d/%Y')\n",
    "df.dtypes"
   ]
  },
  {
   "cell_type": "code",
   "execution_count": 10,
   "id": "8a46cde4",
   "metadata": {
    "execution": {
     "iopub.execute_input": "2024-04-09T17:17:56.842848Z",
     "iopub.status.busy": "2024-04-09T17:17:56.842313Z",
     "iopub.status.idle": "2024-04-09T17:17:56.852765Z",
     "shell.execute_reply": "2024-04-09T17:17:56.851442Z"
    },
    "papermill": {
     "duration": 0.028196,
     "end_time": "2024-04-09T17:17:56.855473",
     "exception": false,
     "start_time": "2024-04-09T17:17:56.827277",
     "status": "completed"
    },
    "tags": []
   },
   "outputs": [
    {
     "data": {
      "text/plain": [
       "Id                          0\n",
       "ActivityDate                0\n",
       "TotalSteps                  0\n",
       "TotalDistance               0\n",
       "TrackerDistance             0\n",
       "LoggedActivitiesDistance    0\n",
       "VeryActiveDistance          0\n",
       "ModeratelyActiveDistance    0\n",
       "LightActiveDistance         0\n",
       "SedentaryActiveDistance     0\n",
       "VeryActiveMinutes           0\n",
       "FairlyActiveMinutes         0\n",
       "LightlyActiveMinutes        0\n",
       "SedentaryMinutes            0\n",
       "Calories                    0\n",
       "dtype: int64"
      ]
     },
     "execution_count": 10,
     "metadata": {},
     "output_type": "execute_result"
    }
   ],
   "source": [
    "#Checking if our dataset have null values\n",
    "df.isna().sum()"
   ]
  },
  {
   "cell_type": "code",
   "execution_count": 11,
   "id": "8b5861a7",
   "metadata": {
    "execution": {
     "iopub.execute_input": "2024-04-09T17:17:56.884573Z",
     "iopub.status.busy": "2024-04-09T17:17:56.884018Z",
     "iopub.status.idle": "2024-04-09T17:17:56.899422Z",
     "shell.execute_reply": "2024-04-09T17:17:56.898311Z"
    },
    "papermill": {
     "duration": 0.032904,
     "end_time": "2024-04-09T17:17:56.902008",
     "exception": false,
     "start_time": "2024-04-09T17:17:56.869104",
     "status": "completed"
    },
    "tags": []
   },
   "outputs": [
    {
     "data": {
      "text/plain": [
       "0"
      ]
     },
     "execution_count": 11,
     "metadata": {},
     "output_type": "execute_result"
    }
   ],
   "source": [
    "#checking duplicates\n",
    "df.duplicated().sum()"
   ]
  },
  {
   "cell_type": "code",
   "execution_count": 12,
   "id": "de9cdc9c",
   "metadata": {
    "execution": {
     "iopub.execute_input": "2024-04-09T17:17:56.931457Z",
     "iopub.status.busy": "2024-04-09T17:17:56.930976Z",
     "iopub.status.idle": "2024-04-09T17:17:56.947921Z",
     "shell.execute_reply": "2024-04-09T17:17:56.946474Z"
    },
    "papermill": {
     "duration": 0.036026,
     "end_time": "2024-04-09T17:17:56.951419",
     "exception": false,
     "start_time": "2024-04-09T17:17:56.915393",
     "status": "completed"
    },
    "tags": []
   },
   "outputs": [
    {
     "name": "stdout",
     "output_type": "stream",
     "text": [
      "Count of matches: 925\n"
     ]
    }
   ],
   "source": [
    "# Checking if TotalDistance and TrackerDistance have a same values \n",
    "count_matches = 0\n",
    "for index, (total_distance, tracker_distance) in enumerate(zip(df['TotalDistance'], df['TrackerDistance'])):\n",
    "    if total_distance == tracker_distance:\n",
    "        count_matches += 1\n",
    "        \n",
    "print(\"Count of matches:\", count_matches)"
   ]
  },
  {
   "cell_type": "markdown",
   "id": "8141e09b",
   "metadata": {
    "papermill": {
     "duration": 0.012806,
     "end_time": "2024-04-09T17:17:56.978096",
     "exception": false,
     "start_time": "2024-04-09T17:17:56.965290",
     "status": "completed"
    },
    "tags": []
   },
   "source": [
    "Mostly records are exactly the same but 15 records are different 940 != 925 (Why they are different though?)"
   ]
  },
  {
   "cell_type": "markdown",
   "id": "93542278",
   "metadata": {
    "papermill": {
     "duration": 0.012672,
     "end_time": "2024-04-09T17:17:57.004052",
     "exception": false,
     "start_time": "2024-04-09T17:17:56.991380",
     "status": "completed"
    },
    "tags": []
   },
   "source": [
    "Checking if LoggedActivitiesDistance,\n",
    "VeryActiveDistance, ModeratelyActiveDistance, \n",
    "LightActiveDistance, SedentaryActiveDistance\n",
    "are a sum for Tracker Distance (lets see)"
   ]
  },
  {
   "cell_type": "code",
   "execution_count": 13,
   "id": "300dff13",
   "metadata": {
    "execution": {
     "iopub.execute_input": "2024-04-09T17:17:57.033854Z",
     "iopub.status.busy": "2024-04-09T17:17:57.032450Z",
     "iopub.status.idle": "2024-04-09T17:17:57.043737Z",
     "shell.execute_reply": "2024-04-09T17:17:57.041946Z"
    },
    "papermill": {
     "duration": 0.029508,
     "end_time": "2024-04-09T17:17:57.046642",
     "exception": false,
     "start_time": "2024-04-09T17:17:57.017134",
     "status": "completed"
    },
    "tags": []
   },
   "outputs": [
    {
     "name": "stdout",
     "output_type": "stream",
     "text": [
      "Matches of count: 304\n"
     ]
    }
   ],
   "source": [
    "sumofmatches = 0\n",
    "for index, (loggedactivites, activedistance,moderatelydistance,lightdistance,sedentarydistance,tracker_distance) in enumerate(zip(df['LoggedActivitiesDistance'], df['VeryActiveDistance'],df['ModeratelyActiveDistance'],\n",
    "                 df['LightActiveDistance'],df['SedentaryActiveDistance'],df['TrackerDistance'])):\n",
    "    if loggedactivites + activedistance + moderatelydistance+ lightdistance+ sedentarydistance ==tracker_distance:\n",
    "        sumofmatches += 1\n",
    "print(f'Matches of count: {sumofmatches}') "
   ]
  },
  {
   "cell_type": "markdown",
   "id": "f57ecaff",
   "metadata": {
    "papermill": {
     "duration": 0.013106,
     "end_time": "2024-04-09T17:17:57.073537",
     "exception": false,
     "start_time": "2024-04-09T17:17:57.060431",
     "status": "completed"
    },
    "tags": []
   },
   "source": [
    "As we can see sum of all related(?) columns gives us 304 same results as TrackerDistance"
   ]
  },
  {
   "cell_type": "code",
   "execution_count": 14,
   "id": "82068c2e",
   "metadata": {
    "execution": {
     "iopub.execute_input": "2024-04-09T17:17:57.102770Z",
     "iopub.status.busy": "2024-04-09T17:17:57.102276Z",
     "iopub.status.idle": "2024-04-09T17:17:57.122285Z",
     "shell.execute_reply": "2024-04-09T17:17:57.121022Z"
    },
    "papermill": {
     "duration": 0.037806,
     "end_time": "2024-04-09T17:17:57.124710",
     "exception": false,
     "start_time": "2024-04-09T17:17:57.086904",
     "status": "completed"
    },
    "tags": []
   },
   "outputs": [
    {
     "data": {
      "text/plain": [
       "distance_diff\n",
       "0.000000    925\n",
       "1.830000      1\n",
       "0.190001      1\n",
       "0.040000      1\n",
       "0.810000      1\n",
       "1.049999      1\n",
       "0.760000      1\n",
       "1.070000      1\n",
       "0.980000      1\n",
       "0.900001      1\n",
       "1.140000      1\n",
       "1.160000      1\n",
       "0.880000      1\n",
       "0.460000      1\n",
       "1.160000      1\n",
       "1.060000      1\n",
       "Name: count, dtype: int64"
      ]
     },
     "execution_count": 14,
     "metadata": {},
     "output_type": "execute_result"
    }
   ],
   "source": [
    "#Lets make a new column\n",
    "df['distance_diff'] = df['TotalDistance'] - df['TrackerDistance']\n",
    "df['distance_diff'].value_counts()"
   ]
  },
  {
   "cell_type": "code",
   "execution_count": 15,
   "id": "8547ca43",
   "metadata": {
    "execution": {
     "iopub.execute_input": "2024-04-09T17:17:57.154223Z",
     "iopub.status.busy": "2024-04-09T17:17:57.152903Z",
     "iopub.status.idle": "2024-04-09T17:17:57.190124Z",
     "shell.execute_reply": "2024-04-09T17:17:57.188896Z"
    },
    "papermill": {
     "duration": 0.054947,
     "end_time": "2024-04-09T17:17:57.193065",
     "exception": false,
     "start_time": "2024-04-09T17:17:57.138118",
     "status": "completed"
    },
    "tags": []
   },
   "outputs": [
    {
     "data": {
      "text/html": [
       "<div>\n",
       "<style scoped>\n",
       "    .dataframe tbody tr th:only-of-type {\n",
       "        vertical-align: middle;\n",
       "    }\n",
       "\n",
       "    .dataframe tbody tr th {\n",
       "        vertical-align: top;\n",
       "    }\n",
       "\n",
       "    .dataframe thead th {\n",
       "        text-align: right;\n",
       "    }\n",
       "</style>\n",
       "<table border=\"1\" class=\"dataframe\">\n",
       "  <thead>\n",
       "    <tr style=\"text-align: right;\">\n",
       "      <th></th>\n",
       "      <th>Id</th>\n",
       "      <th>ActivityDate</th>\n",
       "      <th>TotalSteps</th>\n",
       "      <th>TotalDistance</th>\n",
       "      <th>TrackerDistance</th>\n",
       "      <th>LoggedActivitiesDistance</th>\n",
       "      <th>VeryActiveDistance</th>\n",
       "      <th>ModeratelyActiveDistance</th>\n",
       "      <th>LightActiveDistance</th>\n",
       "      <th>SedentaryActiveDistance</th>\n",
       "      <th>VeryActiveMinutes</th>\n",
       "      <th>FairlyActiveMinutes</th>\n",
       "      <th>LightlyActiveMinutes</th>\n",
       "      <th>SedentaryMinutes</th>\n",
       "      <th>Calories</th>\n",
       "      <th>distance_diff</th>\n",
       "    </tr>\n",
       "  </thead>\n",
       "  <tbody>\n",
       "    <tr>\n",
       "      <th>731</th>\n",
       "      <td>7007744171</td>\n",
       "      <td>2016-05-02</td>\n",
       "      <td>13041</td>\n",
       "      <td>9.18</td>\n",
       "      <td>8.72</td>\n",
       "      <td>2.832326</td>\n",
       "      <td>4.64</td>\n",
       "      <td>0.70</td>\n",
       "      <td>3.83</td>\n",
       "      <td>0.0</td>\n",
       "      <td>64</td>\n",
       "      <td>14</td>\n",
       "      <td>250</td>\n",
       "      <td>1112</td>\n",
       "      <td>2642</td>\n",
       "      <td>0.46</td>\n",
       "    </tr>\n",
       "    <tr>\n",
       "      <th>732</th>\n",
       "      <td>7007744171</td>\n",
       "      <td>2016-05-03</td>\n",
       "      <td>14510</td>\n",
       "      <td>10.87</td>\n",
       "      <td>9.71</td>\n",
       "      <td>4.912368</td>\n",
       "      <td>4.48</td>\n",
       "      <td>1.02</td>\n",
       "      <td>5.36</td>\n",
       "      <td>0.0</td>\n",
       "      <td>58</td>\n",
       "      <td>31</td>\n",
       "      <td>330</td>\n",
       "      <td>1021</td>\n",
       "      <td>2976</td>\n",
       "      <td>1.16</td>\n",
       "    </tr>\n",
       "    <tr>\n",
       "      <th>734</th>\n",
       "      <td>7007744171</td>\n",
       "      <td>2016-05-05</td>\n",
       "      <td>15010</td>\n",
       "      <td>11.10</td>\n",
       "      <td>10.04</td>\n",
       "      <td>4.878232</td>\n",
       "      <td>4.33</td>\n",
       "      <td>1.29</td>\n",
       "      <td>5.48</td>\n",
       "      <td>0.0</td>\n",
       "      <td>53</td>\n",
       "      <td>23</td>\n",
       "      <td>317</td>\n",
       "      <td>1047</td>\n",
       "      <td>2933</td>\n",
       "      <td>1.06</td>\n",
       "    </tr>\n",
       "  </tbody>\n",
       "</table>\n",
       "</div>"
      ],
      "text/plain": [
       "             Id ActivityDate  TotalSteps  TotalDistance  TrackerDistance  \\\n",
       "731  7007744171   2016-05-02       13041           9.18             8.72   \n",
       "732  7007744171   2016-05-03       14510          10.87             9.71   \n",
       "734  7007744171   2016-05-05       15010          11.10            10.04   \n",
       "\n",
       "     LoggedActivitiesDistance  VeryActiveDistance  ModeratelyActiveDistance  \\\n",
       "731                  2.832326                4.64                      0.70   \n",
       "732                  4.912368                4.48                      1.02   \n",
       "734                  4.878232                4.33                      1.29   \n",
       "\n",
       "     LightActiveDistance  SedentaryActiveDistance  VeryActiveMinutes  \\\n",
       "731                 3.83                      0.0                 64   \n",
       "732                 5.36                      0.0                 58   \n",
       "734                 5.48                      0.0                 53   \n",
       "\n",
       "     FairlyActiveMinutes  LightlyActiveMinutes  SedentaryMinutes  Calories  \\\n",
       "731                   14                   250              1112      2642   \n",
       "732                   31                   330              1021      2976   \n",
       "734                   23                   317              1047      2933   \n",
       "\n",
       "     distance_diff  \n",
       "731           0.46  \n",
       "732           1.16  \n",
       "734           1.06  "
      ]
     },
     "execution_count": 15,
     "metadata": {},
     "output_type": "execute_result"
    }
   ],
   "source": [
    "df.query('distance_diff > 0.0').tail(3)"
   ]
  },
  {
   "cell_type": "code",
   "execution_count": 16,
   "id": "a542af72",
   "metadata": {
    "execution": {
     "iopub.execute_input": "2024-04-09T17:17:57.223296Z",
     "iopub.status.busy": "2024-04-09T17:17:57.222433Z",
     "iopub.status.idle": "2024-04-09T17:17:57.249445Z",
     "shell.execute_reply": "2024-04-09T17:17:57.248213Z"
    },
    "papermill": {
     "duration": 0.044705,
     "end_time": "2024-04-09T17:17:57.251924",
     "exception": false,
     "start_time": "2024-04-09T17:17:57.207219",
     "status": "completed"
    },
    "tags": []
   },
   "outputs": [
    {
     "data": {
      "text/html": [
       "<div>\n",
       "<style scoped>\n",
       "    .dataframe tbody tr th:only-of-type {\n",
       "        vertical-align: middle;\n",
       "    }\n",
       "\n",
       "    .dataframe tbody tr th {\n",
       "        vertical-align: top;\n",
       "    }\n",
       "\n",
       "    .dataframe thead th {\n",
       "        text-align: right;\n",
       "    }\n",
       "</style>\n",
       "<table border=\"1\" class=\"dataframe\">\n",
       "  <thead>\n",
       "    <tr style=\"text-align: right;\">\n",
       "      <th></th>\n",
       "      <th>Id</th>\n",
       "      <th>ActivityDate</th>\n",
       "      <th>TotalSteps</th>\n",
       "      <th>TotalDistance</th>\n",
       "      <th>TrackerDistance</th>\n",
       "      <th>LoggedActivitiesDistance</th>\n",
       "      <th>VeryActiveDistance</th>\n",
       "      <th>ModeratelyActiveDistance</th>\n",
       "      <th>LightActiveDistance</th>\n",
       "      <th>SedentaryActiveDistance</th>\n",
       "      <th>VeryActiveMinutes</th>\n",
       "      <th>FairlyActiveMinutes</th>\n",
       "      <th>LightlyActiveMinutes</th>\n",
       "      <th>SedentaryMinutes</th>\n",
       "      <th>Calories</th>\n",
       "      <th>distance_diff</th>\n",
       "    </tr>\n",
       "  </thead>\n",
       "  <tbody>\n",
       "    <tr>\n",
       "      <th>0</th>\n",
       "      <td>1503960366</td>\n",
       "      <td>2016-04-12</td>\n",
       "      <td>13162</td>\n",
       "      <td>8.50</td>\n",
       "      <td>8.50</td>\n",
       "      <td>0.0</td>\n",
       "      <td>1.88</td>\n",
       "      <td>0.55</td>\n",
       "      <td>6.06</td>\n",
       "      <td>0.0</td>\n",
       "      <td>25</td>\n",
       "      <td>13</td>\n",
       "      <td>328</td>\n",
       "      <td>728</td>\n",
       "      <td>1985</td>\n",
       "      <td>0.0</td>\n",
       "    </tr>\n",
       "    <tr>\n",
       "      <th>1</th>\n",
       "      <td>1503960366</td>\n",
       "      <td>2016-04-13</td>\n",
       "      <td>10735</td>\n",
       "      <td>6.97</td>\n",
       "      <td>6.97</td>\n",
       "      <td>0.0</td>\n",
       "      <td>1.57</td>\n",
       "      <td>0.69</td>\n",
       "      <td>4.71</td>\n",
       "      <td>0.0</td>\n",
       "      <td>21</td>\n",
       "      <td>19</td>\n",
       "      <td>217</td>\n",
       "      <td>776</td>\n",
       "      <td>1797</td>\n",
       "      <td>0.0</td>\n",
       "    </tr>\n",
       "    <tr>\n",
       "      <th>2</th>\n",
       "      <td>1503960366</td>\n",
       "      <td>2016-04-14</td>\n",
       "      <td>10460</td>\n",
       "      <td>6.74</td>\n",
       "      <td>6.74</td>\n",
       "      <td>0.0</td>\n",
       "      <td>2.44</td>\n",
       "      <td>0.40</td>\n",
       "      <td>3.91</td>\n",
       "      <td>0.0</td>\n",
       "      <td>30</td>\n",
       "      <td>11</td>\n",
       "      <td>181</td>\n",
       "      <td>1218</td>\n",
       "      <td>1776</td>\n",
       "      <td>0.0</td>\n",
       "    </tr>\n",
       "  </tbody>\n",
       "</table>\n",
       "</div>"
      ],
      "text/plain": [
       "           Id ActivityDate  TotalSteps  TotalDistance  TrackerDistance  \\\n",
       "0  1503960366   2016-04-12       13162           8.50             8.50   \n",
       "1  1503960366   2016-04-13       10735           6.97             6.97   \n",
       "2  1503960366   2016-04-14       10460           6.74             6.74   \n",
       "\n",
       "   LoggedActivitiesDistance  VeryActiveDistance  ModeratelyActiveDistance  \\\n",
       "0                       0.0                1.88                      0.55   \n",
       "1                       0.0                1.57                      0.69   \n",
       "2                       0.0                2.44                      0.40   \n",
       "\n",
       "   LightActiveDistance  SedentaryActiveDistance  VeryActiveMinutes  \\\n",
       "0                 6.06                      0.0                 25   \n",
       "1                 4.71                      0.0                 21   \n",
       "2                 3.91                      0.0                 30   \n",
       "\n",
       "   FairlyActiveMinutes  LightlyActiveMinutes  SedentaryMinutes  Calories  \\\n",
       "0                   13                   328               728      1985   \n",
       "1                   19                   217               776      1797   \n",
       "2                   11                   181              1218      1776   \n",
       "\n",
       "   distance_diff  \n",
       "0            0.0  \n",
       "1            0.0  \n",
       "2            0.0  "
      ]
     },
     "execution_count": 16,
     "metadata": {},
     "output_type": "execute_result"
    }
   ],
   "source": [
    "df.query('distance_diff == 0.0').head(3)"
   ]
  },
  {
   "cell_type": "markdown",
   "id": "b82e847b",
   "metadata": {
    "papermill": {
     "duration": 0.014265,
     "end_time": "2024-04-09T17:17:57.280122",
     "exception": false,
     "start_time": "2024-04-09T17:17:57.265857",
     "status": "completed"
    },
    "tags": []
   },
   "source": [
    "As we can see LoggedActivitiesDistance when is 0.0 our distance_diff also is 0.0 but when its > 0.0 distance_diff also change to higher value\n",
    "\n",
    " Its telling us that these two columns TotalDistance != TrackerDistance are not the same "
   ]
  },
  {
   "cell_type": "code",
   "execution_count": 17,
   "id": "6f4f6d2b",
   "metadata": {
    "execution": {
     "iopub.execute_input": "2024-04-09T17:17:57.311707Z",
     "iopub.status.busy": "2024-04-09T17:17:57.310808Z",
     "iopub.status.idle": "2024-04-09T17:17:57.317832Z",
     "shell.execute_reply": "2024-04-09T17:17:57.316532Z"
    },
    "papermill": {
     "duration": 0.026482,
     "end_time": "2024-04-09T17:17:57.320895",
     "exception": false,
     "start_time": "2024-04-09T17:17:57.294413",
     "status": "completed"
    },
    "tags": []
   },
   "outputs": [],
   "source": [
    "#Changing columns format \n",
    "df.columns = df.columns.str.title()"
   ]
  },
  {
   "cell_type": "code",
   "execution_count": 18,
   "id": "4ff566cf",
   "metadata": {
    "execution": {
     "iopub.execute_input": "2024-04-09T17:17:57.351229Z",
     "iopub.status.busy": "2024-04-09T17:17:57.350786Z",
     "iopub.status.idle": "2024-04-09T17:17:57.358018Z",
     "shell.execute_reply": "2024-04-09T17:17:57.357181Z"
    },
    "papermill": {
     "duration": 0.026056,
     "end_time": "2024-04-09T17:17:57.361518",
     "exception": false,
     "start_time": "2024-04-09T17:17:57.335462",
     "status": "completed"
    },
    "tags": []
   },
   "outputs": [
    {
     "data": {
      "text/plain": [
       "Index(['Id', 'Activitydate', 'Totalsteps', 'Totaldistance', 'Trackerdistance',\n",
       "       'Loggedactivitiesdistance', 'Veryactivedistance',\n",
       "       'Moderatelyactivedistance', 'Lightactivedistance',\n",
       "       'Sedentaryactivedistance', 'Veryactiveminutes', 'Fairlyactiveminutes',\n",
       "       'Lightlyactiveminutes', 'Sedentaryminutes', 'Calories',\n",
       "       'Distance_Diff'],\n",
       "      dtype='object')"
      ]
     },
     "execution_count": 18,
     "metadata": {},
     "output_type": "execute_result"
    }
   ],
   "source": [
    "df.columns"
   ]
  },
  {
   "cell_type": "code",
   "execution_count": 19,
   "id": "4b735fa6",
   "metadata": {
    "execution": {
     "iopub.execute_input": "2024-04-09T17:17:57.406204Z",
     "iopub.status.busy": "2024-04-09T17:17:57.405332Z",
     "iopub.status.idle": "2024-04-09T17:17:57.414798Z",
     "shell.execute_reply": "2024-04-09T17:17:57.413519Z"
    },
    "papermill": {
     "duration": 0.03546,
     "end_time": "2024-04-09T17:17:57.418554",
     "exception": false,
     "start_time": "2024-04-09T17:17:57.383094",
     "status": "completed"
    },
    "tags": []
   },
   "outputs": [],
   "source": [
    "df.rename(columns={ 'Activitydate': 'Activity_Date', 'Totalsteps': 'Total_Steps', \n",
    "                   'Totaldistance': 'Total_Distance', 'Trackerdistance': 'Tracker_Distance',\n",
    "                   'Loggedactivitiesdistance': 'Logged_Activities_Distance', 'Veryactivedistance': 'Very_Active_Distance',\n",
    "                   'Moderatelyactivedistance': 'Moderately_Active_Distance', 'Lightactivedistance': 'Light_Active_Distance',\n",
    "                   'Sedentaryactivedistance': 'Sedentary_Active_Distance', 'Veryactiveminutes': 'Very_Active_Minutes', \n",
    "                   'Fairlyactiveminutes': 'Fairly_Active_Minutes', 'Lightlyactiveminutes': 'Lightly_Active_Minutes', \n",
    "                   'Sedentaryminutes': 'Sedentary_Minutes'}, \n",
    "          inplace=True)\n"
   ]
  },
  {
   "cell_type": "code",
   "execution_count": 20,
   "id": "d7aa5c9f",
   "metadata": {
    "execution": {
     "iopub.execute_input": "2024-04-09T17:17:57.462484Z",
     "iopub.status.busy": "2024-04-09T17:17:57.460734Z",
     "iopub.status.idle": "2024-04-09T17:17:57.469916Z",
     "shell.execute_reply": "2024-04-09T17:17:57.469037Z"
    },
    "papermill": {
     "duration": 0.033481,
     "end_time": "2024-04-09T17:17:57.472558",
     "exception": false,
     "start_time": "2024-04-09T17:17:57.439077",
     "status": "completed"
    },
    "tags": []
   },
   "outputs": [
    {
     "data": {
      "text/plain": [
       "Index(['Id', 'Activity_Date', 'Total_Steps', 'Total_Distance',\n",
       "       'Tracker_Distance', 'Logged_Activities_Distance',\n",
       "       'Very_Active_Distance', 'Moderately_Active_Distance',\n",
       "       'Light_Active_Distance', 'Sedentary_Active_Distance',\n",
       "       'Very_Active_Minutes', 'Fairly_Active_Minutes',\n",
       "       'Lightly_Active_Minutes', 'Sedentary_Minutes', 'Calories',\n",
       "       'Distance_Diff'],\n",
       "      dtype='object')"
      ]
     },
     "execution_count": 20,
     "metadata": {},
     "output_type": "execute_result"
    }
   ],
   "source": [
    "df.columns"
   ]
  },
  {
   "cell_type": "code",
   "execution_count": 21,
   "id": "8dae3329",
   "metadata": {
    "execution": {
     "iopub.execute_input": "2024-04-09T17:17:57.505474Z",
     "iopub.status.busy": "2024-04-09T17:17:57.505029Z",
     "iopub.status.idle": "2024-04-09T17:17:57.516247Z",
     "shell.execute_reply": "2024-04-09T17:17:57.515026Z"
    },
    "papermill": {
     "duration": 0.030574,
     "end_time": "2024-04-09T17:17:57.519885",
     "exception": false,
     "start_time": "2024-04-09T17:17:57.489311",
     "status": "completed"
    },
    "tags": []
   },
   "outputs": [],
   "source": [
    "df['Day_of_the_week'] = df['Activity_Date'].dt.day_name()\n",
    "df['Number_of_week'] = df['Activity_Date'].dt.weekday"
   ]
  },
  {
   "cell_type": "code",
   "execution_count": 22,
   "id": "dc8981f9",
   "metadata": {
    "execution": {
     "iopub.execute_input": "2024-04-09T17:17:57.569078Z",
     "iopub.status.busy": "2024-04-09T17:17:57.567143Z",
     "iopub.status.idle": "2024-04-09T17:17:57.576376Z",
     "shell.execute_reply": "2024-04-09T17:17:57.575198Z"
    },
    "papermill": {
     "duration": 0.036734,
     "end_time": "2024-04-09T17:17:57.579705",
     "exception": false,
     "start_time": "2024-04-09T17:17:57.542971",
     "status": "completed"
    },
    "tags": []
   },
   "outputs": [],
   "source": [
    "df_subset = df[['Id', 'Activity_Date', 'Total_Steps', #'Total_Distance',\n",
    "       #'Tracker_Distance', 'Logged_Activities_Distance',\n",
    "       #'Very_Active_Distance', 'Moderately_Active_Distance',\n",
    "       #'Light_Active_Distance', 'Sedentary_Active_Distance',\n",
    "       'Very_Active_Minutes', 'Fairly_Active_Minutes',\n",
    "       'Lightly_Active_Minutes', 'Sedentary_Minutes', 'Calories']]"
   ]
  },
  {
   "cell_type": "code",
   "execution_count": 23,
   "id": "4cb6278e",
   "metadata": {
    "execution": {
     "iopub.execute_input": "2024-04-09T17:17:57.620414Z",
     "iopub.status.busy": "2024-04-09T17:17:57.619441Z",
     "iopub.status.idle": "2024-04-09T17:17:57.636463Z",
     "shell.execute_reply": "2024-04-09T17:17:57.635387Z"
    },
    "papermill": {
     "duration": 0.040158,
     "end_time": "2024-04-09T17:17:57.638821",
     "exception": false,
     "start_time": "2024-04-09T17:17:57.598663",
     "status": "completed"
    },
    "tags": []
   },
   "outputs": [
    {
     "data": {
      "text/html": [
       "<div>\n",
       "<style scoped>\n",
       "    .dataframe tbody tr th:only-of-type {\n",
       "        vertical-align: middle;\n",
       "    }\n",
       "\n",
       "    .dataframe tbody tr th {\n",
       "        vertical-align: top;\n",
       "    }\n",
       "\n",
       "    .dataframe thead th {\n",
       "        text-align: right;\n",
       "    }\n",
       "</style>\n",
       "<table border=\"1\" class=\"dataframe\">\n",
       "  <thead>\n",
       "    <tr style=\"text-align: right;\">\n",
       "      <th></th>\n",
       "      <th>Id</th>\n",
       "      <th>Activity_Date</th>\n",
       "      <th>Total_Steps</th>\n",
       "      <th>Very_Active_Minutes</th>\n",
       "      <th>Fairly_Active_Minutes</th>\n",
       "      <th>Lightly_Active_Minutes</th>\n",
       "      <th>Sedentary_Minutes</th>\n",
       "      <th>Calories</th>\n",
       "    </tr>\n",
       "  </thead>\n",
       "  <tbody>\n",
       "    <tr>\n",
       "      <th>0</th>\n",
       "      <td>1503960366</td>\n",
       "      <td>2016-04-12</td>\n",
       "      <td>13162</td>\n",
       "      <td>25</td>\n",
       "      <td>13</td>\n",
       "      <td>328</td>\n",
       "      <td>728</td>\n",
       "      <td>1985</td>\n",
       "    </tr>\n",
       "    <tr>\n",
       "      <th>1</th>\n",
       "      <td>1503960366</td>\n",
       "      <td>2016-04-13</td>\n",
       "      <td>10735</td>\n",
       "      <td>21</td>\n",
       "      <td>19</td>\n",
       "      <td>217</td>\n",
       "      <td>776</td>\n",
       "      <td>1797</td>\n",
       "    </tr>\n",
       "    <tr>\n",
       "      <th>2</th>\n",
       "      <td>1503960366</td>\n",
       "      <td>2016-04-14</td>\n",
       "      <td>10460</td>\n",
       "      <td>30</td>\n",
       "      <td>11</td>\n",
       "      <td>181</td>\n",
       "      <td>1218</td>\n",
       "      <td>1776</td>\n",
       "    </tr>\n",
       "  </tbody>\n",
       "</table>\n",
       "</div>"
      ],
      "text/plain": [
       "           Id Activity_Date  Total_Steps  Very_Active_Minutes  \\\n",
       "0  1503960366    2016-04-12        13162                   25   \n",
       "1  1503960366    2016-04-13        10735                   21   \n",
       "2  1503960366    2016-04-14        10460                   30   \n",
       "\n",
       "   Fairly_Active_Minutes  Lightly_Active_Minutes  Sedentary_Minutes  Calories  \n",
       "0                     13                     328                728      1985  \n",
       "1                     19                     217                776      1797  \n",
       "2                     11                     181               1218      1776  "
      ]
     },
     "execution_count": 23,
     "metadata": {},
     "output_type": "execute_result"
    }
   ],
   "source": [
    "df_subset.head(3)"
   ]
  },
  {
   "cell_type": "code",
   "execution_count": 24,
   "id": "4e817545",
   "metadata": {
    "execution": {
     "iopub.execute_input": "2024-04-09T17:17:57.671678Z",
     "iopub.status.busy": "2024-04-09T17:17:57.670646Z",
     "iopub.status.idle": "2024-04-09T17:17:57.679636Z",
     "shell.execute_reply": "2024-04-09T17:17:57.678564Z"
    },
    "papermill": {
     "duration": 0.028343,
     "end_time": "2024-04-09T17:17:57.681942",
     "exception": false,
     "start_time": "2024-04-09T17:17:57.653599",
     "status": "completed"
    },
    "tags": []
   },
   "outputs": [
    {
     "data": {
      "text/plain": [
       "7637.91"
      ]
     },
     "execution_count": 24,
     "metadata": {},
     "output_type": "execute_result"
    }
   ],
   "source": [
    "#Average quantity of steps doing by each customer\n",
    "avg_steps = df['Total_Steps']\n",
    "\n",
    "avg_steps.mean().round(2)"
   ]
  },
  {
   "cell_type": "code",
   "execution_count": 25,
   "id": "f6ab7280",
   "metadata": {
    "execution": {
     "iopub.execute_input": "2024-04-09T17:17:57.714142Z",
     "iopub.status.busy": "2024-04-09T17:17:57.713116Z",
     "iopub.status.idle": "2024-04-09T17:17:57.723580Z",
     "shell.execute_reply": "2024-04-09T17:17:57.722509Z"
    },
    "papermill": {
     "duration": 0.02929,
     "end_time": "2024-04-09T17:17:57.726053",
     "exception": false,
     "start_time": "2024-04-09T17:17:57.696763",
     "status": "completed"
    },
    "tags": []
   },
   "outputs": [
    {
     "name": "stderr",
     "output_type": "stream",
     "text": [
      "/tmp/ipykernel_19/2777392361.py:2: SettingWithCopyWarning: \n",
      "A value is trying to be set on a copy of a slice from a DataFrame.\n",
      "Try using .loc[row_indexer,col_indexer] = value instead\n",
      "\n",
      "See the caveats in the documentation: https://pandas.pydata.org/pandas-docs/stable/user_guide/indexing.html#returning-a-view-versus-a-copy\n",
      "  df_subset['Day_of_the_week'] = df['Activity_Date'].dt.day_name()\n",
      "/tmp/ipykernel_19/2777392361.py:3: SettingWithCopyWarning: \n",
      "A value is trying to be set on a copy of a slice from a DataFrame.\n",
      "Try using .loc[row_indexer,col_indexer] = value instead\n",
      "\n",
      "See the caveats in the documentation: https://pandas.pydata.org/pandas-docs/stable/user_guide/indexing.html#returning-a-view-versus-a-copy\n",
      "  df_subset['Number_of_week'] = df['Activity_Date'].dt.weekday\n"
     ]
    }
   ],
   "source": [
    "#lets see difference by avg to every day from monday to sunday in steps\n",
    "df_subset['Day_of_the_week'] = df['Activity_Date'].dt.day_name()\n",
    "df_subset['Number_of_week'] = df['Activity_Date'].dt.weekday"
   ]
  },
  {
   "cell_type": "code",
   "execution_count": 26,
   "id": "a38f6fa0",
   "metadata": {
    "execution": {
     "iopub.execute_input": "2024-04-09T17:17:57.765713Z",
     "iopub.status.busy": "2024-04-09T17:17:57.764699Z",
     "iopub.status.idle": "2024-04-09T17:17:58.099509Z",
     "shell.execute_reply": "2024-04-09T17:17:58.098177Z"
    },
    "papermill": {
     "duration": 0.361485,
     "end_time": "2024-04-09T17:17:58.102549",
     "exception": false,
     "start_time": "2024-04-09T17:17:57.741064",
     "status": "completed"
    },
    "tags": []
   },
   "outputs": [
    {
     "data": {
      "image/png": "[encoded data removed]",
      "text/plain": [
       "<Figure size 640x480 with 1 Axes>"
      ]
     },
     "metadata": {},
     "output_type": "display_data"
    }
   ],
   "source": [
    "\n",
    "df_sorted = df_subset.groupby('Day_of_the_week')['Total_Steps'].sum().sort_values(ascending=False)\n",
    "plt.bar(df_sorted.index, df_sorted)\n",
    "plt.xticks(rotation=45, ha='right')\n",
    "plt.xlabel('Day of the Week')\n",
    "plt.ylabel('Total Steps')\n",
    "plt.show()\n"
   ]
  },
  {
   "cell_type": "code",
   "execution_count": 27,
   "id": "04e213ed",
   "metadata": {
    "execution": {
     "iopub.execute_input": "2024-04-09T17:17:58.138677Z",
     "iopub.status.busy": "2024-04-09T17:17:58.138195Z",
     "iopub.status.idle": "2024-04-09T17:17:58.440325Z",
     "shell.execute_reply": "2024-04-09T17:17:58.439365Z"
    },
    "papermill": {
     "duration": 0.32341,
     "end_time": "2024-04-09T17:17:58.442723",
     "exception": false,
     "start_time": "2024-04-09T17:17:58.119313",
     "status": "completed"
    },
    "tags": []
   },
   "outputs": [
    {
     "data": {
      "image/png": "[encoded data removed]",
      "text/plain": [
       "<Figure size 640x480 with 1 Axes>"
      ]
     },
     "metadata": {},
     "output_type": "display_data"
    }
   ],
   "source": [
    "\n",
    "df_sorted = df_subset.groupby('Day_of_the_week')['Total_Steps'].mean().sort_values(ascending=False)\n",
    "plt.bar(df_sorted.index, df_sorted)\n",
    "plt.xticks(rotation=45, ha='right')\n",
    "plt.xlabel('Day of the Week')\n",
    "plt.ylabel('Average Steps')\n",
    "plt.show()\n"
   ]
  },
  {
   "cell_type": "markdown",
   "id": "82791d16",
   "metadata": {
    "papermill": {
     "duration": 0.01619,
     "end_time": "2024-04-09T17:17:58.475277",
     "exception": false,
     "start_time": "2024-04-09T17:17:58.459087",
     "status": "completed"
    },
    "tags": []
   },
   "source": [
    "As we can see total steps and average steps are not equal by day of the week\n",
    "This can mean that its depends not only in day of the week but also in week, holidays or by season"
   ]
  },
  {
   "cell_type": "markdown",
   "id": "7045b213",
   "metadata": {
    "papermill": {
     "duration": 0.016341,
     "end_time": "2024-04-09T17:17:58.508243",
     "exception": false,
     "start_time": "2024-04-09T17:17:58.491902",
     "status": "completed"
    },
    "tags": []
   },
   "source": [
    "Medical News Today cite: ,,For general fitness, most adults should aim for 10,000 steps per day, with fewer than 5,000 steps being a sign of a sedentary lifestyle.\""
   ]
  },
  {
   "cell_type": "code",
   "execution_count": 28,
   "id": "c172de86",
   "metadata": {
    "execution": {
     "iopub.execute_input": "2024-04-09T17:17:58.543516Z",
     "iopub.status.busy": "2024-04-09T17:17:58.542429Z",
     "iopub.status.idle": "2024-04-09T17:17:58.559889Z",
     "shell.execute_reply": "2024-04-09T17:17:58.559043Z"
    },
    "papermill": {
     "duration": 0.037298,
     "end_time": "2024-04-09T17:17:58.562289",
     "exception": false,
     "start_time": "2024-04-09T17:17:58.524991",
     "status": "completed"
    },
    "tags": []
   },
   "outputs": [
    {
     "name": "stdout",
     "output_type": "stream",
     "text": [
      "Day_of_the_week\n",
      "Friday       33\n",
      "Monday       40\n",
      "Saturday     42\n",
      "Sunday       33\n",
      "Thursday     46\n",
      "Tuesday      60\n",
      "Wednesday    49\n",
      "dtype: int64\n"
     ]
    }
   ],
   "source": [
    "#Lets see how many times our customers did > 10 000steps in week and which day of the week this was\n",
    "df_over_10k = df_subset[df_subset['Total_Steps'] >= 10000]\n",
    "result = df_over_10k.groupby(['Id', 'Day_of_the_week']).size().unstack(fill_value=0)\n",
    "print(result.sum())"
   ]
  },
  {
   "cell_type": "markdown",
   "id": "331e0706",
   "metadata": {
    "papermill": {
     "duration": 0.015699,
     "end_time": "2024-04-09T17:17:58.594320",
     "exception": false,
     "start_time": "2024-04-09T17:17:58.578621",
     "status": "completed"
    },
    "tags": []
   },
   "source": [
    "as we can see Tuesday is the wealthiest day of the week for our customers and total_steps are correct in that!"
   ]
  },
  {
   "cell_type": "code",
   "execution_count": 29,
   "id": "41aa98c9",
   "metadata": {
    "execution": {
     "iopub.execute_input": "2024-04-09T17:17:58.629155Z",
     "iopub.status.busy": "2024-04-09T17:17:58.628249Z",
     "iopub.status.idle": "2024-04-09T17:17:58.633056Z",
     "shell.execute_reply": "2024-04-09T17:17:58.632031Z"
    },
    "papermill": {
     "duration": 0.02467,
     "end_time": "2024-04-09T17:17:58.635231",
     "exception": false,
     "start_time": "2024-04-09T17:17:58.610561",
     "status": "completed"
    },
    "tags": []
   },
   "outputs": [],
   "source": [
    "#Now lets see changing of active in minutes by some time "
   ]
  },
  {
   "cell_type": "code",
   "execution_count": null,
   "id": "8faa224f",
   "metadata": {
    "papermill": {
     "duration": 0.015741,
     "end_time": "2024-04-09T17:17:58.667363",
     "exception": false,
     "start_time": "2024-04-09T17:17:58.651622",
     "status": "completed"
    },
    "tags": []
   },
   "outputs": [],
   "source": []
  }
 ],
 "metadata": {
  "kaggle": {
   "accelerator": "none",
   "dataSources": [
    {
     "datasetId": 1041311,
     "sourceId": 7746251,
     "sourceType": "datasetVersion"
    }
   ],
   "dockerImageVersionId": 30684,
   "isGpuEnabled": false,
   "isInternetEnabled": true,
   "language": "python",
   "sourceType": "notebook"
  },
  "kernelspec": {
   "display_name": "Python 3",
   "language": "python",
   "name": "python3"
  },
  "language_info": {
   "codemirror_mode": {
    "name": "ipython",
    "version": 3
   },
   "file_extension": ".py",
   "mimetype": "text/x-python",
   "name": "python",
   "nbconvert_exporter": "python",
   "pygments_lexer": "ipython3",
   "version": "3.10.13"
  },
  "papermill": {
   "default_parameters": {},
   "duration": 9.991691,
   "end_time": "2024-04-09T17:17:59.506496",
   "environment_variables": {},
   "exception": null,
   "input_path": "__notebook__.ipynb",
   "output_path": "__notebook__.ipynb",
   "parameters": {},
   "start_time": "2024-04-09T17:17:49.514805",
   "version": "2.5.0"
  }
 },
 "nbformat": 4,
 "nbformat_minor": 5
}
