{
 "cells": [
  {
   "cell_type": "code",
   "execution_count": 1,
   "id": "860704cd",
   "metadata": {
    "_cell_guid": "b1076dfc-b9ad-4769-8c92-a6c4dae69d19",
    "_uuid": "8f2839f25d086af736a60e9eeb907d3b93b6e0e5",
    "execution": {
     "iopub.execute_input": "2024-04-10T14:24:43.497196Z",
     "iopub.status.busy": "2024-04-10T14:24:43.496813Z",
     "iopub.status.idle": "2024-04-10T14:24:44.631639Z",
     "shell.execute_reply": "2024-04-10T14:24:44.629327Z"
    },
    "papermill": {
     "duration": 1.151614,
     "end_time": "2024-04-10T14:24:44.634522",
     "exception": false,
     "start_time": "2024-04-10T14:24:43.482908",
     "status": "completed"
    },
    "tags": []
   },
   "outputs": [
    {
     "name": "stdout",
     "output_type": "stream",
     "text": [
      "/kaggle/input/fitbit/mturkfitbit_export_3.12.16-4.11.16/Fitabase Data 3.12.16-4.11.16/minuteCaloriesNarrow_merged.csv\n",
      "/kaggle/input/fitbit/mturkfitbit_export_3.12.16-4.11.16/Fitabase Data 3.12.16-4.11.16/weightLogInfo_merged.csv\n",
      "/kaggle/input/fitbit/mturkfitbit_export_3.12.16-4.11.16/Fitabase Data 3.12.16-4.11.16/minuteMETsNarrow_merged.csv\n",
      "/kaggle/input/fitbit/mturkfitbit_export_3.12.16-4.11.16/Fitabase Data 3.12.16-4.11.16/hourlyCalories_merged.csv\n",
      "/kaggle/input/fitbit/mturkfitbit_export_3.12.16-4.11.16/Fitabase Data 3.12.16-4.11.16/heartrate_seconds_merged.csv\n",
      "/kaggle/input/fitbit/mturkfitbit_export_3.12.16-4.11.16/Fitabase Data 3.12.16-4.11.16/minuteSleep_merged.csv\n",
      "/kaggle/input/fitbit/mturkfitbit_export_3.12.16-4.11.16/Fitabase Data 3.12.16-4.11.16/hourlyIntensities_merged.csv\n",
      "/kaggle/input/fitbit/mturkfitbit_export_3.12.16-4.11.16/Fitabase Data 3.12.16-4.11.16/hourlySteps_merged.csv\n",
      "/kaggle/input/fitbit/mturkfitbit_export_3.12.16-4.11.16/Fitabase Data 3.12.16-4.11.16/minuteStepsNarrow_merged.csv\n",
      "/kaggle/input/fitbit/mturkfitbit_export_3.12.16-4.11.16/Fitabase Data 3.12.16-4.11.16/minuteIntensitiesNarrow_merged.csv\n",
      "/kaggle/input/fitbit/mturkfitbit_export_3.12.16-4.11.16/Fitabase Data 3.12.16-4.11.16/dailyActivity_merged.csv\n",
      "/kaggle/input/fitbit/mturkfitbit_export_4.12.16-5.12.16/Fitabase Data 4.12.16-5.12.16/minuteCaloriesNarrow_merged.csv\n",
      "/kaggle/input/fitbit/mturkfitbit_export_4.12.16-5.12.16/Fitabase Data 4.12.16-5.12.16/weightLogInfo_merged.csv\n",
      "/kaggle/input/fitbit/mturkfitbit_export_4.12.16-5.12.16/Fitabase Data 4.12.16-5.12.16/sleepDay_merged.csv\n",
      "/kaggle/input/fitbit/mturkfitbit_export_4.12.16-5.12.16/Fitabase Data 4.12.16-5.12.16/dailyIntensities_merged.csv\n",
      "/kaggle/input/fitbit/mturkfitbit_export_4.12.16-5.12.16/Fitabase Data 4.12.16-5.12.16/minuteIntensitiesWide_merged.csv\n",
      "/kaggle/input/fitbit/mturkfitbit_export_4.12.16-5.12.16/Fitabase Data 4.12.16-5.12.16/minuteMETsNarrow_merged.csv\n",
      "/kaggle/input/fitbit/mturkfitbit_export_4.12.16-5.12.16/Fitabase Data 4.12.16-5.12.16/dailyCalories_merged.csv\n",
      "/kaggle/input/fitbit/mturkfitbit_export_4.12.16-5.12.16/Fitabase Data 4.12.16-5.12.16/hourlyCalories_merged.csv\n",
      "/kaggle/input/fitbit/mturkfitbit_export_4.12.16-5.12.16/Fitabase Data 4.12.16-5.12.16/heartrate_seconds_merged.csv\n",
      "/kaggle/input/fitbit/mturkfitbit_export_4.12.16-5.12.16/Fitabase Data 4.12.16-5.12.16/minuteSleep_merged.csv\n",
      "/kaggle/input/fitbit/mturkfitbit_export_4.12.16-5.12.16/Fitabase Data 4.12.16-5.12.16/hourlyIntensities_merged.csv\n",
      "/kaggle/input/fitbit/mturkfitbit_export_4.12.16-5.12.16/Fitabase Data 4.12.16-5.12.16/hourlySteps_merged.csv\n",
      "/kaggle/input/fitbit/mturkfitbit_export_4.12.16-5.12.16/Fitabase Data 4.12.16-5.12.16/minuteStepsNarrow_merged.csv\n",
      "/kaggle/input/fitbit/mturkfitbit_export_4.12.16-5.12.16/Fitabase Data 4.12.16-5.12.16/dailySteps_merged.csv\n",
      "/kaggle/input/fitbit/mturkfitbit_export_4.12.16-5.12.16/Fitabase Data 4.12.16-5.12.16/minuteStepsWide_merged.csv\n",
      "/kaggle/input/fitbit/mturkfitbit_export_4.12.16-5.12.16/Fitabase Data 4.12.16-5.12.16/minuteIntensitiesNarrow_merged.csv\n",
      "/kaggle/input/fitbit/mturkfitbit_export_4.12.16-5.12.16/Fitabase Data 4.12.16-5.12.16/minuteCaloriesWide_merged.csv\n",
      "/kaggle/input/fitbit/mturkfitbit_export_4.12.16-5.12.16/Fitabase Data 4.12.16-5.12.16/dailyActivity_merged.csv\n"
     ]
    }
   ],
   "source": [
    "# This Python 3 environment comes with many helpful analytics libraries installed\n",
    "# It is defined by the kaggle/python Docker image: https://github.com/kaggle/docker-python\n",
    "# For example, here's several helpful packages to load\n",
    "\n",
    "import numpy as np # linear algebra\n",
    "import pandas as pd # data processing, CSV file I/O (e.g. pd.read_csv)\n",
    "\n",
    "# Input data files are available in the read-only \"../input/\" directory\n",
    "# For example, running this (by clicking run or pressing Shift+Enter) will list all files under the input directory\n",
    "\n",
    "import os\n",
    "for dirname, _, filenames in os.walk('/kaggle/input'):\n",
    "    for filename in filenames:\n",
    "        print(os.path.join(dirname, filename))\n",
    "\n",
    "# You can write up to 20GB to the current directory (/kaggle/working/) that gets preserved as output when you create a version using \"Save & Run All\" \n",
    "# You can also write temporary files to /kaggle/temp/, but they won't be saved outside of the current session"
   ]
  },
  {
   "cell_type": "code",
   "execution_count": 2,
   "id": "178e67e0",
   "metadata": {
    "execution": {
     "iopub.execute_input": "2024-04-10T14:24:44.664947Z",
     "iopub.status.busy": "2024-04-10T14:24:44.663864Z",
     "iopub.status.idle": "2024-04-10T14:24:47.269016Z",
     "shell.execute_reply": "2024-04-10T14:24:47.267661Z"
    },
    "papermill": {
     "duration": 2.625313,
     "end_time": "2024-04-10T14:24:47.272321",
     "exception": false,
     "start_time": "2024-04-10T14:24:44.647008",
     "status": "completed"
    },
    "tags": []
   },
   "outputs": [],
   "source": [
    "import numpy as np\n",
    "import pandas as pd\n",
    "import matplotlib.pyplot as plt\n",
    "import plotly.express as px\n",
    "import seaborn as sns\n",
    "import datetime as dt\n",
    "plt.style.use('ggplot')\n",
    "\n",
    "#option for seeing all columns\n",
    "\n",
    "#pd.set_option('max_column')"
   ]
  },
  {
   "cell_type": "code",
   "execution_count": 3,
   "id": "d698e6a4",
   "metadata": {
    "execution": {
     "iopub.execute_input": "2024-04-10T14:24:47.299073Z",
     "iopub.status.busy": "2024-04-10T14:24:47.297939Z",
     "iopub.status.idle": "2024-04-10T14:24:47.324929Z",
     "shell.execute_reply": "2024-04-10T14:24:47.323662Z"
    },
    "papermill": {
     "duration": 0.043558,
     "end_time": "2024-04-10T14:24:47.328197",
     "exception": false,
     "start_time": "2024-04-10T14:24:47.284639",
     "status": "completed"
    },
    "tags": []
   },
   "outputs": [],
   "source": [
    "df = pd.read_csv(\"/kaggle/input/fitbit/mturkfitbit_export_4.12.16-5.12.16/Fitabase Data 4.12.16-5.12.16/dailyActivity_merged.csv\")"
   ]
  },
  {
   "cell_type": "code",
   "execution_count": 4,
   "id": "b93fc34f",
   "metadata": {
    "execution": {
     "iopub.execute_input": "2024-04-10T14:24:47.355835Z",
     "iopub.status.busy": "2024-04-10T14:24:47.355013Z",
     "iopub.status.idle": "2024-04-10T14:24:47.386555Z",
     "shell.execute_reply": "2024-04-10T14:24:47.384564Z"
    },
    "papermill": {
     "duration": 0.049403,
     "end_time": "2024-04-10T14:24:47.389949",
     "exception": false,
     "start_time": "2024-04-10T14:24:47.340546",
     "status": "completed"
    },
    "tags": []
   },
   "outputs": [
    {
     "data": {
      "text/plain": [
       "Id                                  object\n",
       "ActivityDate                datetime64[ns]\n",
       "TotalSteps                           int64\n",
       "TotalDistance                      float64\n",
       "TrackerDistance                    float64\n",
       "LoggedActivitiesDistance           float64\n",
       "VeryActiveDistance                 float64\n",
       "ModeratelyActiveDistance           float64\n",
       "LightActiveDistance                float64\n",
       "SedentaryActiveDistance            float64\n",
       "VeryActiveMinutes                    int64\n",
       "FairlyActiveMinutes                  int64\n",
       "LightlyActiveMinutes                 int64\n",
       "SedentaryMinutes                     int64\n",
       "Calories                             int64\n",
       "dtype: object"
      ]
     },
     "execution_count": 4,
     "metadata": {},
     "output_type": "execute_result"
    }
   ],
   "source": [
    "#Changing data types [Cleaning data]\n",
    "df['Id'] = df['Id'].astype(str)\n",
    "df['ActivityDate'] = pd.to_datetime(df['ActivityDate'],format='%m/%d/%Y')\n",
    "df.dtypes"
   ]
  },
  {
   "cell_type": "code",
   "execution_count": 5,
   "id": "95aa0a26",
   "metadata": {
    "execution": {
     "iopub.execute_input": "2024-04-10T14:24:47.415763Z",
     "iopub.status.busy": "2024-04-10T14:24:47.415076Z",
     "iopub.status.idle": "2024-04-10T14:24:47.422420Z",
     "shell.execute_reply": "2024-04-10T14:24:47.421464Z"
    },
    "papermill": {
     "duration": 0.0238,
     "end_time": "2024-04-10T14:24:47.425654",
     "exception": false,
     "start_time": "2024-04-10T14:24:47.401854",
     "status": "completed"
    },
    "tags": []
   },
   "outputs": [],
   "source": [
    "df.rename(columns={ 'Activitydate': 'Activity_Date', 'Totalsteps': 'Total_Steps', \n",
    "                   'Totaldistance': 'Total_Distance', 'Trackerdistance': 'Tracker_Distance',\n",
    "                   'Loggedactivitiesdistance': 'Logged_Activities_Distance', 'Veryactivedistance': 'Very_Active_Distance',\n",
    "                   'Moderatelyactivedistance': 'Moderately_Active_Distance', 'Lightactivedistance': 'Light_Active_Distance',\n",
    "                   'Sedentaryactivedistance': 'Sedentary_Active_Distance', 'Veryactiveminutes': 'Very_Active_Minutes', \n",
    "                   'Fairlyactiveminutes': 'Fairly_Active_Minutes', 'Lightlyactiveminutes': 'Lightly_Active_Minutes', \n",
    "                   'Sedentaryminutes': 'Sedentary_Minutes'}, \n",
    "          inplace=True)\n"
   ]
  },
  {
   "cell_type": "code",
   "execution_count": 6,
   "id": "6d14cc4a",
   "metadata": {
    "execution": {
     "iopub.execute_input": "2024-04-10T14:24:47.452230Z",
     "iopub.status.busy": "2024-04-10T14:24:47.451473Z",
     "iopub.status.idle": "2024-04-10T14:24:47.461918Z",
     "shell.execute_reply": "2024-04-10T14:24:47.460171Z"
    },
    "papermill": {
     "duration": 0.027306,
     "end_time": "2024-04-10T14:24:47.465430",
     "exception": false,
     "start_time": "2024-04-10T14:24:47.438124",
     "status": "completed"
    },
    "tags": []
   },
   "outputs": [],
   "source": [
    "df_subset = df[['Id', 'ActivityDate', 'TotalSteps', #'Total_Distance',\n",
    "       #'Tracker_Distance', 'Logged_Activities_Distance',\n",
    "       #'Very_Active_Distance', 'Moderately_Active_Distance',\n",
    "       #'Light_Active_Distance', 'Sedentary_Active_Distance',\n",
    "       'VeryActiveMinutes', 'FairlyActiveMinutes',\n",
    "       'LightlyActiveMinutes', 'SedentaryMinutes', 'Calories']]"
   ]
  },
  {
   "cell_type": "code",
   "execution_count": 7,
   "id": "eaf87d4a",
   "metadata": {
    "execution": {
     "iopub.execute_input": "2024-04-10T14:24:47.492997Z",
     "iopub.status.busy": "2024-04-10T14:24:47.492541Z",
     "iopub.status.idle": "2024-04-10T14:24:47.502087Z",
     "shell.execute_reply": "2024-04-10T14:24:47.500940Z"
    },
    "papermill": {
     "duration": 0.025992,
     "end_time": "2024-04-10T14:24:47.504633",
     "exception": false,
     "start_time": "2024-04-10T14:24:47.478641",
     "status": "completed"
    },
    "tags": []
   },
   "outputs": [
    {
     "data": {
      "text/plain": [
       "Index(['Id', 'ActivityDate', 'TotalSteps', 'TotalDistance', 'TrackerDistance',\n",
       "       'LoggedActivitiesDistance', 'VeryActiveDistance',\n",
       "       'ModeratelyActiveDistance', 'LightActiveDistance',\n",
       "       'SedentaryActiveDistance', 'VeryActiveMinutes', 'FairlyActiveMinutes',\n",
       "       'LightlyActiveMinutes', 'SedentaryMinutes', 'Calories'],\n",
       "      dtype='object')"
      ]
     },
     "execution_count": 7,
     "metadata": {},
     "output_type": "execute_result"
    }
   ],
   "source": [
    "df.columns"
   ]
  },
  {
   "cell_type": "code",
   "execution_count": 8,
   "id": "b0b949f6",
   "metadata": {
    "execution": {
     "iopub.execute_input": "2024-04-10T14:24:47.529996Z",
     "iopub.status.busy": "2024-04-10T14:24:47.529563Z",
     "iopub.status.idle": "2024-04-10T14:24:47.541440Z",
     "shell.execute_reply": "2024-04-10T14:24:47.540011Z"
    },
    "papermill": {
     "duration": 0.028356,
     "end_time": "2024-04-10T14:24:47.544826",
     "exception": false,
     "start_time": "2024-04-10T14:24:47.516470",
     "status": "completed"
    },
    "tags": []
   },
   "outputs": [
    {
     "name": "stderr",
     "output_type": "stream",
     "text": [
      "/tmp/ipykernel_17/2046300497.py:1: SettingWithCopyWarning: \n",
      "A value is trying to be set on a copy of a slice from a DataFrame.\n",
      "Try using .loc[row_indexer,col_indexer] = value instead\n",
      "\n",
      "See the caveats in the documentation: https://pandas.pydata.org/pandas-docs/stable/user_guide/indexing.html#returning-a-view-versus-a-copy\n",
      "  df_subset['Day_of_the_week'] = df['ActivityDate'].dt.day_name()\n",
      "/tmp/ipykernel_17/2046300497.py:2: SettingWithCopyWarning: \n",
      "A value is trying to be set on a copy of a slice from a DataFrame.\n",
      "Try using .loc[row_indexer,col_indexer] = value instead\n",
      "\n",
      "See the caveats in the documentation: https://pandas.pydata.org/pandas-docs/stable/user_guide/indexing.html#returning-a-view-versus-a-copy\n",
      "  df_subset['Number_of_week'] = df['ActivityDate'].dt.weekday\n"
     ]
    }
   ],
   "source": [
    "df_subset['Day_of_the_week'] = df['ActivityDate'].dt.day_name()\n",
    "df_subset['Number_of_week'] = df['ActivityDate'].dt.weekday"
   ]
  },
  {
   "cell_type": "code",
   "execution_count": 9,
   "id": "d5ee0da6",
   "metadata": {
    "execution": {
     "iopub.execute_input": "2024-04-10T14:24:47.573014Z",
     "iopub.status.busy": "2024-04-10T14:24:47.572208Z",
     "iopub.status.idle": "2024-04-10T14:24:47.592378Z",
     "shell.execute_reply": "2024-04-10T14:24:47.590996Z"
    },
    "papermill": {
     "duration": 0.037462,
     "end_time": "2024-04-10T14:24:47.595118",
     "exception": false,
     "start_time": "2024-04-10T14:24:47.557656",
     "status": "completed"
    },
    "tags": []
   },
   "outputs": [
    {
     "data": {
      "text/html": [
       "<div>\n",
       "<style scoped>\n",
       "    .dataframe tbody tr th:only-of-type {\n",
       "        vertical-align: middle;\n",
       "    }\n",
       "\n",
       "    .dataframe tbody tr th {\n",
       "        vertical-align: top;\n",
       "    }\n",
       "\n",
       "    .dataframe thead th {\n",
       "        text-align: right;\n",
       "    }\n",
       "</style>\n",
       "<table border=\"1\" class=\"dataframe\">\n",
       "  <thead>\n",
       "    <tr style=\"text-align: right;\">\n",
       "      <th></th>\n",
       "      <th>Id</th>\n",
       "      <th>ActivityDate</th>\n",
       "      <th>TotalSteps</th>\n",
       "      <th>VeryActiveMinutes</th>\n",
       "      <th>FairlyActiveMinutes</th>\n",
       "      <th>LightlyActiveMinutes</th>\n",
       "      <th>SedentaryMinutes</th>\n",
       "      <th>Calories</th>\n",
       "      <th>Day_of_the_week</th>\n",
       "      <th>Number_of_week</th>\n",
       "    </tr>\n",
       "  </thead>\n",
       "  <tbody>\n",
       "    <tr>\n",
       "      <th>0</th>\n",
       "      <td>1503960366</td>\n",
       "      <td>2016-04-12</td>\n",
       "      <td>13162</td>\n",
       "      <td>25</td>\n",
       "      <td>13</td>\n",
       "      <td>328</td>\n",
       "      <td>728</td>\n",
       "      <td>1985</td>\n",
       "      <td>Tuesday</td>\n",
       "      <td>1</td>\n",
       "    </tr>\n",
       "    <tr>\n",
       "      <th>1</th>\n",
       "      <td>1503960366</td>\n",
       "      <td>2016-04-13</td>\n",
       "      <td>10735</td>\n",
       "      <td>21</td>\n",
       "      <td>19</td>\n",
       "      <td>217</td>\n",
       "      <td>776</td>\n",
       "      <td>1797</td>\n",
       "      <td>Wednesday</td>\n",
       "      <td>2</td>\n",
       "    </tr>\n",
       "    <tr>\n",
       "      <th>2</th>\n",
       "      <td>1503960366</td>\n",
       "      <td>2016-04-14</td>\n",
       "      <td>10460</td>\n",
       "      <td>30</td>\n",
       "      <td>11</td>\n",
       "      <td>181</td>\n",
       "      <td>1218</td>\n",
       "      <td>1776</td>\n",
       "      <td>Thursday</td>\n",
       "      <td>3</td>\n",
       "    </tr>\n",
       "  </tbody>\n",
       "</table>\n",
       "</div>"
      ],
      "text/plain": [
       "           Id ActivityDate  TotalSteps  VeryActiveMinutes  \\\n",
       "0  1503960366   2016-04-12       13162                 25   \n",
       "1  1503960366   2016-04-13       10735                 21   \n",
       "2  1503960366   2016-04-14       10460                 30   \n",
       "\n",
       "   FairlyActiveMinutes  LightlyActiveMinutes  SedentaryMinutes  Calories  \\\n",
       "0                   13                   328               728      1985   \n",
       "1                   19                   217               776      1797   \n",
       "2                   11                   181              1218      1776   \n",
       "\n",
       "  Day_of_the_week  Number_of_week  \n",
       "0         Tuesday               1  \n",
       "1       Wednesday               2  \n",
       "2        Thursday               3  "
      ]
     },
     "execution_count": 9,
     "metadata": {},
     "output_type": "execute_result"
    }
   ],
   "source": [
    "df_subset.head(3)"
   ]
  },
  {
   "cell_type": "code",
   "execution_count": 10,
   "id": "ec65c7d0",
   "metadata": {
    "execution": {
     "iopub.execute_input": "2024-04-10T14:24:47.623319Z",
     "iopub.status.busy": "2024-04-10T14:24:47.622881Z",
     "iopub.status.idle": "2024-04-10T14:24:47.631079Z",
     "shell.execute_reply": "2024-04-10T14:24:47.629782Z"
    },
    "papermill": {
     "duration": 0.026223,
     "end_time": "2024-04-10T14:24:47.634516",
     "exception": false,
     "start_time": "2024-04-10T14:24:47.608293",
     "status": "completed"
    },
    "tags": []
   },
   "outputs": [
    {
     "data": {
      "text/plain": [
       "7637.91"
      ]
     },
     "execution_count": 10,
     "metadata": {},
     "output_type": "execute_result"
    }
   ],
   "source": [
    "#Average quantity of steps doing by each customer\n",
    "avg_steps = df['TotalSteps']\n",
    "\n",
    "avg_steps.mean().round(2)"
   ]
  },
  {
   "cell_type": "code",
   "execution_count": 11,
   "id": "b8ee7690",
   "metadata": {
    "execution": {
     "iopub.execute_input": "2024-04-10T14:24:47.664022Z",
     "iopub.status.busy": "2024-04-10T14:24:47.663611Z",
     "iopub.status.idle": "2024-04-10T14:24:47.686745Z",
     "shell.execute_reply": "2024-04-10T14:24:47.685406Z"
    },
    "papermill": {
     "duration": 0.041774,
     "end_time": "2024-04-10T14:24:47.689965",
     "exception": false,
     "start_time": "2024-04-10T14:24:47.648191",
     "status": "completed"
    },
    "tags": []
   },
   "outputs": [
    {
     "name": "stdout",
     "output_type": "stream",
     "text": [
      "Day_of_the_week\n",
      "Friday       33\n",
      "Monday       40\n",
      "Saturday     42\n",
      "Sunday       33\n",
      "Thursday     46\n",
      "Tuesday      60\n",
      "Wednesday    49\n",
      "dtype: int64\n"
     ]
    }
   ],
   "source": [
    "#Lets see how many times our customers did > 10 000steps in week and which day of the week this was\n",
    "df_over_10k = df_subset[df_subset['TotalSteps'] >= 10000]\n",
    "result = df_over_10k.groupby(['Id', 'Day_of_the_week']).size().unstack(fill_value=0)\n",
    "print(result.sum())"
   ]
  },
  {
   "cell_type": "markdown",
   "id": "f3ff1d2f",
   "metadata": {
    "papermill": {
     "duration": 0.012656,
     "end_time": "2024-04-10T14:24:47.715267",
     "exception": false,
     "start_time": "2024-04-10T14:24:47.702611",
     "status": "completed"
    },
    "tags": []
   },
   "source": [
    "as we can see Tuesday is the wealthiest day of the week for our customers and total_steps are correct in that!"
   ]
  },
  {
   "cell_type": "code",
   "execution_count": 12,
   "id": "d012c5a6",
   "metadata": {
    "execution": {
     "iopub.execute_input": "2024-04-10T14:24:47.743149Z",
     "iopub.status.busy": "2024-04-10T14:24:47.742742Z",
     "iopub.status.idle": "2024-04-10T14:24:47.752252Z",
     "shell.execute_reply": "2024-04-10T14:24:47.750921Z"
    },
    "papermill": {
     "duration": 0.02677,
     "end_time": "2024-04-10T14:24:47.755004",
     "exception": false,
     "start_time": "2024-04-10T14:24:47.728234",
     "status": "completed"
    },
    "tags": []
   },
   "outputs": [
    {
     "data": {
      "text/plain": [
       "Timestamp('2016-04-12 00:00:00')"
      ]
     },
     "execution_count": 12,
     "metadata": {},
     "output_type": "execute_result"
    }
   ],
   "source": [
    "#Need to check a range of a date\n",
    "df_subset['ActivityDate'].min()"
   ]
  },
  {
   "cell_type": "code",
   "execution_count": 13,
   "id": "c9eccc99",
   "metadata": {
    "execution": {
     "iopub.execute_input": "2024-04-10T14:24:47.783177Z",
     "iopub.status.busy": "2024-04-10T14:24:47.782742Z",
     "iopub.status.idle": "2024-04-10T14:24:47.792859Z",
     "shell.execute_reply": "2024-04-10T14:24:47.791354Z"
    },
    "papermill": {
     "duration": 0.027541,
     "end_time": "2024-04-10T14:24:47.795796",
     "exception": false,
     "start_time": "2024-04-10T14:24:47.768255",
     "status": "completed"
    },
    "tags": []
   },
   "outputs": [
    {
     "data": {
      "text/plain": [
       "Timestamp('2016-05-12 00:00:00')"
      ]
     },
     "execution_count": 13,
     "metadata": {},
     "output_type": "execute_result"
    }
   ],
   "source": [
    "df_subset['ActivityDate'].max()"
   ]
  },
  {
   "cell_type": "code",
   "execution_count": 14,
   "id": "cab4d507",
   "metadata": {
    "execution": {
     "iopub.execute_input": "2024-04-10T14:24:47.824934Z",
     "iopub.status.busy": "2024-04-10T14:24:47.824475Z",
     "iopub.status.idle": "2024-04-10T14:24:47.830699Z",
     "shell.execute_reply": "2024-04-10T14:24:47.828987Z"
    },
    "papermill": {
     "duration": 0.025014,
     "end_time": "2024-04-10T14:24:47.833846",
     "exception": false,
     "start_time": "2024-04-10T14:24:47.808832",
     "status": "completed"
    },
    "tags": []
   },
   "outputs": [],
   "source": [
    "# We have a date only from one month which is not good because a technology like this\n",
    "#is usually used more frequent in hotter season's and less in colder season's "
   ]
  },
  {
   "cell_type": "code",
   "execution_count": 15,
   "id": "2183be02",
   "metadata": {
    "execution": {
     "iopub.execute_input": "2024-04-10T14:24:47.863876Z",
     "iopub.status.busy": "2024-04-10T14:24:47.862509Z",
     "iopub.status.idle": "2024-04-10T14:24:47.868353Z",
     "shell.execute_reply": "2024-04-10T14:24:47.867308Z"
    },
    "papermill": {
     "duration": 0.024393,
     "end_time": "2024-04-10T14:24:47.871140",
     "exception": false,
     "start_time": "2024-04-10T14:24:47.846747",
     "status": "completed"
    },
    "tags": []
   },
   "outputs": [],
   "source": [
    "#Adding category for each ID and his average steps\n",
    "# Sedentary life < 5000\n",
    "# Light Active life between 5000 and 7000\n",
    "# Fairly Active life between 7000 and 9000\n",
    "# Very Active life 9000 and above"
   ]
  },
  {
   "cell_type": "code",
   "execution_count": 16,
   "id": "ed04078d",
   "metadata": {
    "execution": {
     "iopub.execute_input": "2024-04-10T14:24:47.900910Z",
     "iopub.status.busy": "2024-04-10T14:24:47.900453Z",
     "iopub.status.idle": "2024-04-10T14:24:47.912186Z",
     "shell.execute_reply": "2024-04-10T14:24:47.910673Z"
    },
    "papermill": {
     "duration": 0.029909,
     "end_time": "2024-04-10T14:24:47.915285",
     "exception": false,
     "start_time": "2024-04-10T14:24:47.885376",
     "status": "completed"
    },
    "tags": []
   },
   "outputs": [],
   "source": [
    "\n",
    "df_subset_avg_steps = df_subset.groupby('Id')['TotalSteps'].mean().round(0)"
   ]
  },
  {
   "cell_type": "code",
   "execution_count": 17,
   "id": "ec0269a1",
   "metadata": {
    "execution": {
     "iopub.execute_input": "2024-04-10T14:24:47.945920Z",
     "iopub.status.busy": "2024-04-10T14:24:47.945193Z",
     "iopub.status.idle": "2024-04-10T14:24:47.956159Z",
     "shell.execute_reply": "2024-04-10T14:24:47.955173Z"
    },
    "papermill": {
     "duration": 0.029437,
     "end_time": "2024-04-10T14:24:47.958935",
     "exception": false,
     "start_time": "2024-04-10T14:24:47.929498",
     "status": "completed"
    },
    "tags": []
   },
   "outputs": [
    {
     "data": {
      "text/plain": [
       "Id\n",
       "1503960366    12117.0\n",
       "1624580081     5744.0\n",
       "1644430081     7283.0\n",
       "Name: TotalSteps, dtype: float64"
      ]
     },
     "execution_count": 17,
     "metadata": {},
     "output_type": "execute_result"
    }
   ],
   "source": [
    "df_subset_avg_steps.head(3)\n"
   ]
  },
  {
   "cell_type": "code",
   "execution_count": 18,
   "id": "2d2396f2",
   "metadata": {
    "execution": {
     "iopub.execute_input": "2024-04-10T14:24:47.989548Z",
     "iopub.status.busy": "2024-04-10T14:24:47.989113Z",
     "iopub.status.idle": "2024-04-10T14:24:47.997290Z",
     "shell.execute_reply": "2024-04-10T14:24:47.995882Z"
    },
    "papermill": {
     "duration": 0.027052,
     "end_time": "2024-04-10T14:24:47.999897",
     "exception": false,
     "start_time": "2024-04-10T14:24:47.972845",
     "status": "completed"
    },
    "tags": []
   },
   "outputs": [],
   "source": [
    "df_subset_avg_steps = pd.DataFrame(df_subset_avg_steps).sort_values(by='TotalSteps',ascending=False)"
   ]
  },
  {
   "cell_type": "code",
   "execution_count": 19,
   "id": "fdd5ca3b",
   "metadata": {
    "execution": {
     "iopub.execute_input": "2024-04-10T14:24:48.028393Z",
     "iopub.status.busy": "2024-04-10T14:24:48.027943Z",
     "iopub.status.idle": "2024-04-10T14:24:48.040194Z",
     "shell.execute_reply": "2024-04-10T14:24:48.039057Z"
    },
    "papermill": {
     "duration": 0.02926,
     "end_time": "2024-04-10T14:24:48.042782",
     "exception": false,
     "start_time": "2024-04-10T14:24:48.013522",
     "status": "completed"
    },
    "tags": []
   },
   "outputs": [
    {
     "data": {
      "text/html": [
       "<div>\n",
       "<style scoped>\n",
       "    .dataframe tbody tr th:only-of-type {\n",
       "        vertical-align: middle;\n",
       "    }\n",
       "\n",
       "    .dataframe tbody tr th {\n",
       "        vertical-align: top;\n",
       "    }\n",
       "\n",
       "    .dataframe thead th {\n",
       "        text-align: right;\n",
       "    }\n",
       "</style>\n",
       "<table border=\"1\" class=\"dataframe\">\n",
       "  <thead>\n",
       "    <tr style=\"text-align: right;\">\n",
       "      <th></th>\n",
       "      <th>TotalSteps</th>\n",
       "    </tr>\n",
       "    <tr>\n",
       "      <th>Id</th>\n",
       "      <th></th>\n",
       "    </tr>\n",
       "  </thead>\n",
       "  <tbody>\n",
       "    <tr>\n",
       "      <th>8877689391</th>\n",
       "      <td>16040.0</td>\n",
       "    </tr>\n",
       "  </tbody>\n",
       "</table>\n",
       "</div>"
      ],
      "text/plain": [
       "            TotalSteps\n",
       "Id                    \n",
       "8877689391     16040.0"
      ]
     },
     "execution_count": 19,
     "metadata": {},
     "output_type": "execute_result"
    }
   ],
   "source": [
    "df_subset_avg_steps.head(1)"
   ]
  },
  {
   "cell_type": "code",
   "execution_count": 20,
   "id": "711e1af6",
   "metadata": {
    "execution": {
     "iopub.execute_input": "2024-04-10T14:24:48.071132Z",
     "iopub.status.busy": "2024-04-10T14:24:48.070689Z",
     "iopub.status.idle": "2024-04-10T14:24:48.081484Z",
     "shell.execute_reply": "2024-04-10T14:24:48.079773Z"
    },
    "papermill": {
     "duration": 0.029735,
     "end_time": "2024-04-10T14:24:48.085645",
     "exception": false,
     "start_time": "2024-04-10T14:24:48.055910",
     "status": "completed"
    },
    "tags": []
   },
   "outputs": [
    {
     "name": "stderr",
     "output_type": "stream",
     "text": [
      "/tmp/ipykernel_17/3900959768.py:13: SettingWithCopyWarning: \n",
      "A value is trying to be set on a copy of a slice from a DataFrame.\n",
      "Try using .loc[row_indexer,col_indexer] = value instead\n",
      "\n",
      "See the caveats in the documentation: https://pandas.pydata.org/pandas-docs/stable/user_guide/indexing.html#returning-a-view-versus-a-copy\n",
      "  df_subset['ActivityCategory'] = df_subset['TotalSteps'].apply(categorize_steps)\n"
     ]
    }
   ],
   "source": [
    "categories = {\n",
    "    'Sedentary': (0, 5000),\n",
    "    'Light Active': (5000, 7000),\n",
    "    'Fairly Active': (7000, 9000),\n",
    "    'Very Active': (9000, float('inf'))\n",
    "}\n",
    "#creating a function\n",
    "def categorize_steps(TotalSteps):\n",
    "    for category, (lower, upper) in categories.items():\n",
    "        if lower <= TotalSteps < upper:\n",
    "            return category\n",
    "#aplyying categories\n",
    "df_subset['ActivityCategory'] = df_subset['TotalSteps'].apply(categorize_steps)\n",
    "        "
   ]
  },
  {
   "cell_type": "code",
   "execution_count": 21,
   "id": "c17ff136",
   "metadata": {
    "execution": {
     "iopub.execute_input": "2024-04-10T14:24:48.115311Z",
     "iopub.status.busy": "2024-04-10T14:24:48.114905Z",
     "iopub.status.idle": "2024-04-10T14:24:48.129860Z",
     "shell.execute_reply": "2024-04-10T14:24:48.128638Z"
    },
    "papermill": {
     "duration": 0.032345,
     "end_time": "2024-04-10T14:24:48.132387",
     "exception": false,
     "start_time": "2024-04-10T14:24:48.100042",
     "status": "completed"
    },
    "tags": []
   },
   "outputs": [
    {
     "data": {
      "text/html": [
       "<div>\n",
       "<style scoped>\n",
       "    .dataframe tbody tr th:only-of-type {\n",
       "        vertical-align: middle;\n",
       "    }\n",
       "\n",
       "    .dataframe tbody tr th {\n",
       "        vertical-align: top;\n",
       "    }\n",
       "\n",
       "    .dataframe thead th {\n",
       "        text-align: right;\n",
       "    }\n",
       "</style>\n",
       "<table border=\"1\" class=\"dataframe\">\n",
       "  <thead>\n",
       "    <tr style=\"text-align: right;\">\n",
       "      <th></th>\n",
       "      <th>Id</th>\n",
       "      <th>ActivityDate</th>\n",
       "      <th>TotalSteps</th>\n",
       "      <th>VeryActiveMinutes</th>\n",
       "      <th>FairlyActiveMinutes</th>\n",
       "      <th>LightlyActiveMinutes</th>\n",
       "      <th>SedentaryMinutes</th>\n",
       "      <th>Calories</th>\n",
       "      <th>Day_of_the_week</th>\n",
       "      <th>Number_of_week</th>\n",
       "      <th>ActivityCategory</th>\n",
       "    </tr>\n",
       "  </thead>\n",
       "  <tbody>\n",
       "    <tr>\n",
       "      <th>0</th>\n",
       "      <td>1503960366</td>\n",
       "      <td>2016-04-12</td>\n",
       "      <td>13162</td>\n",
       "      <td>25</td>\n",
       "      <td>13</td>\n",
       "      <td>328</td>\n",
       "      <td>728</td>\n",
       "      <td>1985</td>\n",
       "      <td>Tuesday</td>\n",
       "      <td>1</td>\n",
       "      <td>Very Active</td>\n",
       "    </tr>\n",
       "  </tbody>\n",
       "</table>\n",
       "</div>"
      ],
      "text/plain": [
       "           Id ActivityDate  TotalSteps  VeryActiveMinutes  \\\n",
       "0  1503960366   2016-04-12       13162                 25   \n",
       "\n",
       "   FairlyActiveMinutes  LightlyActiveMinutes  SedentaryMinutes  Calories  \\\n",
       "0                   13                   328               728      1985   \n",
       "\n",
       "  Day_of_the_week  Number_of_week ActivityCategory  \n",
       "0         Tuesday               1      Very Active  "
      ]
     },
     "execution_count": 21,
     "metadata": {},
     "output_type": "execute_result"
    }
   ],
   "source": [
    "df_subset.head(1)"
   ]
  },
  {
   "cell_type": "code",
   "execution_count": 22,
   "id": "9e557058",
   "metadata": {
    "execution": {
     "iopub.execute_input": "2024-04-10T14:24:48.162455Z",
     "iopub.status.busy": "2024-04-10T14:24:48.162060Z",
     "iopub.status.idle": "2024-04-10T14:24:48.171981Z",
     "shell.execute_reply": "2024-04-10T14:24:48.170684Z"
    },
    "papermill": {
     "duration": 0.027947,
     "end_time": "2024-04-10T14:24:48.174446",
     "exception": false,
     "start_time": "2024-04-10T14:24:48.146499",
     "status": "completed"
    },
    "tags": []
   },
   "outputs": [
    {
     "data": {
      "text/plain": [
       "TotalSteps    33\n",
       "dtype: int64"
      ]
     },
     "execution_count": 22,
     "metadata": {},
     "output_type": "execute_result"
    }
   ],
   "source": [
    "df_subset_avg_steps.nunique()"
   ]
  },
  {
   "cell_type": "code",
   "execution_count": 23,
   "id": "5931cd51",
   "metadata": {
    "execution": {
     "iopub.execute_input": "2024-04-10T14:24:48.203672Z",
     "iopub.status.busy": "2024-04-10T14:24:48.203125Z",
     "iopub.status.idle": "2024-04-10T14:24:48.213806Z",
     "shell.execute_reply": "2024-04-10T14:24:48.212008Z"
    },
    "papermill": {
     "duration": 0.028379,
     "end_time": "2024-04-10T14:24:48.216644",
     "exception": false,
     "start_time": "2024-04-10T14:24:48.188265",
     "status": "completed"
    },
    "tags": []
   },
   "outputs": [
    {
     "name": "stdout",
     "output_type": "stream",
     "text": [
      "Not all IDs appear on each of the 31 days.\n"
     ]
    }
   ],
   "source": [
    "id_daily_count = df_subset.groupby('Id')['ActivityDate'].nunique()\n",
    "all_days_covered = (id_daily_count == 31).all()\n",
    "if all_days_covered:\n",
    "    print(\"All IDs appear on each of the 31 days.\")\n",
    "else:\n",
    "    print(\"Not all IDs appear on each of the 31 days.\")"
   ]
  },
  {
   "cell_type": "code",
   "execution_count": 24,
   "id": "c522516e",
   "metadata": {
    "execution": {
     "iopub.execute_input": "2024-04-10T14:24:48.246257Z",
     "iopub.status.busy": "2024-04-10T14:24:48.245843Z",
     "iopub.status.idle": "2024-04-10T14:24:48.259154Z",
     "shell.execute_reply": "2024-04-10T14:24:48.257839Z"
    },
    "papermill": {
     "duration": 0.03087,
     "end_time": "2024-04-10T14:24:48.261609",
     "exception": false,
     "start_time": "2024-04-10T14:24:48.230739",
     "status": "completed"
    },
    "tags": []
   },
   "outputs": [
    {
     "data": {
      "text/plain": [
       "Id\n",
       "1503960366    31\n",
       "4319703577    31\n",
       "8583815059    31\n",
       "8378563200    31\n",
       "8053475328    31\n",
       "7086361926    31\n",
       "6962181067    31\n",
       "5553957443    31\n",
       "4702921684    31\n",
       "4558609924    31\n",
       "1624580081    31\n",
       "4388161847    31\n",
       "4445114986    31\n",
       "8877689391    31\n",
       "1927972279    31\n",
       "2873212765    31\n",
       "2320127002    31\n",
       "4020332650    31\n",
       "2026352035    31\n",
       "1844505072    31\n",
       "2022484408    31\n",
       "3977333714    30\n",
       "1644430081    30\n",
       "5577150313    30\n",
       "8792009665    29\n",
       "6290855005    29\n",
       "6117666160    28\n",
       "6775888955    26\n",
       "7007744171    26\n",
       "3372868164    20\n",
       "8253242879    19\n",
       "2347167796    18\n",
       "4057192912     4\n",
       "Name: count, dtype: int64"
      ]
     },
     "execution_count": 24,
     "metadata": {},
     "output_type": "execute_result"
    }
   ],
   "source": [
    "df['Id'].value_counts()"
   ]
  },
  {
   "cell_type": "code",
   "execution_count": 25,
   "id": "9600b6af",
   "metadata": {
    "execution": {
     "iopub.execute_input": "2024-04-10T14:24:48.293640Z",
     "iopub.status.busy": "2024-04-10T14:24:48.293149Z",
     "iopub.status.idle": "2024-04-10T14:24:48.298151Z",
     "shell.execute_reply": "2024-04-10T14:24:48.297068Z"
    },
    "papermill": {
     "duration": 0.025485,
     "end_time": "2024-04-10T14:24:48.301015",
     "exception": false,
     "start_time": "2024-04-10T14:24:48.275530",
     "status": "completed"
    },
    "tags": []
   },
   "outputs": [],
   "source": [
    "#This can be problem for us if we want to aggregate data for each customer"
   ]
  },
  {
   "cell_type": "code",
   "execution_count": 26,
   "id": "5dab3855",
   "metadata": {
    "execution": {
     "iopub.execute_input": "2024-04-10T14:24:48.333880Z",
     "iopub.status.busy": "2024-04-10T14:24:48.333439Z",
     "iopub.status.idle": "2024-04-10T14:24:48.619302Z",
     "shell.execute_reply": "2024-04-10T14:24:48.617663Z"
    },
    "papermill": {
     "duration": 0.30527,
     "end_time": "2024-04-10T14:24:48.622108",
     "exception": false,
     "start_time": "2024-04-10T14:24:48.316838",
     "status": "completed"
    },
    "tags": []
   },
   "outputs": [
    {
     "data": {
      "image/png": "[encoded data removed]",
      "text/plain": [
       "<Figure size 640x480 with 1 Axes>"
      ]
     },
     "metadata": {},
     "output_type": "display_data"
    }
   ],
   "source": [
    "plt.boxplot(df_subset['TotalSteps'])\n",
    "plt.xlabel('All Customers')\n",
    "plt.ylabel('Total Steps')\n",
    "plt.show()"
   ]
  },
  {
   "cell_type": "code",
   "execution_count": 27,
   "id": "29f48e53",
   "metadata": {
    "execution": {
     "iopub.execute_input": "2024-04-10T14:24:48.655330Z",
     "iopub.status.busy": "2024-04-10T14:24:48.654904Z",
     "iopub.status.idle": "2024-04-10T14:24:48.693157Z",
     "shell.execute_reply": "2024-04-10T14:24:48.691779Z"
    },
    "papermill": {
     "duration": 0.058556,
     "end_time": "2024-04-10T14:24:48.695941",
     "exception": false,
     "start_time": "2024-04-10T14:24:48.637385",
     "status": "completed"
    },
    "tags": []
   },
   "outputs": [
    {
     "data": {
      "text/html": [
       "<div>\n",
       "<style scoped>\n",
       "    .dataframe tbody tr th:only-of-type {\n",
       "        vertical-align: middle;\n",
       "    }\n",
       "\n",
       "    .dataframe tbody tr th {\n",
       "        vertical-align: top;\n",
       "    }\n",
       "\n",
       "    .dataframe thead th {\n",
       "        text-align: right;\n",
       "    }\n",
       "</style>\n",
       "<table border=\"1\" class=\"dataframe\">\n",
       "  <thead>\n",
       "    <tr style=\"text-align: right;\">\n",
       "      <th></th>\n",
       "      <th>TotalSteps</th>\n",
       "      <th>VeryActiveMinutes</th>\n",
       "      <th>FairlyActiveMinutes</th>\n",
       "      <th>LightlyActiveMinutes</th>\n",
       "      <th>SedentaryMinutes</th>\n",
       "      <th>Calories</th>\n",
       "      <th>Number_of_week</th>\n",
       "    </tr>\n",
       "  </thead>\n",
       "  <tbody>\n",
       "    <tr>\n",
       "      <th>count</th>\n",
       "      <td>940.000000</td>\n",
       "      <td>940.000000</td>\n",
       "      <td>940.000000</td>\n",
       "      <td>940.000000</td>\n",
       "      <td>940.000000</td>\n",
       "      <td>940.000000</td>\n",
       "      <td>940.000000</td>\n",
       "    </tr>\n",
       "    <tr>\n",
       "      <th>mean</th>\n",
       "      <td>7637.910638</td>\n",
       "      <td>21.164894</td>\n",
       "      <td>13.564894</td>\n",
       "      <td>192.812766</td>\n",
       "      <td>991.210638</td>\n",
       "      <td>2303.609574</td>\n",
       "      <td>2.918085</td>\n",
       "    </tr>\n",
       "    <tr>\n",
       "      <th>std</th>\n",
       "      <td>5087.150742</td>\n",
       "      <td>32.844803</td>\n",
       "      <td>19.987404</td>\n",
       "      <td>109.174700</td>\n",
       "      <td>301.267437</td>\n",
       "      <td>718.166862</td>\n",
       "      <td>1.942379</td>\n",
       "    </tr>\n",
       "    <tr>\n",
       "      <th>min</th>\n",
       "      <td>0.000000</td>\n",
       "      <td>0.000000</td>\n",
       "      <td>0.000000</td>\n",
       "      <td>0.000000</td>\n",
       "      <td>0.000000</td>\n",
       "      <td>0.000000</td>\n",
       "      <td>0.000000</td>\n",
       "    </tr>\n",
       "    <tr>\n",
       "      <th>25%</th>\n",
       "      <td>3789.750000</td>\n",
       "      <td>0.000000</td>\n",
       "      <td>0.000000</td>\n",
       "      <td>127.000000</td>\n",
       "      <td>729.750000</td>\n",
       "      <td>1828.500000</td>\n",
       "      <td>1.000000</td>\n",
       "    </tr>\n",
       "    <tr>\n",
       "      <th>50%</th>\n",
       "      <td>7405.500000</td>\n",
       "      <td>4.000000</td>\n",
       "      <td>6.000000</td>\n",
       "      <td>199.000000</td>\n",
       "      <td>1057.500000</td>\n",
       "      <td>2134.000000</td>\n",
       "      <td>3.000000</td>\n",
       "    </tr>\n",
       "    <tr>\n",
       "      <th>75%</th>\n",
       "      <td>10727.000000</td>\n",
       "      <td>32.000000</td>\n",
       "      <td>19.000000</td>\n",
       "      <td>264.000000</td>\n",
       "      <td>1229.500000</td>\n",
       "      <td>2793.250000</td>\n",
       "      <td>5.000000</td>\n",
       "    </tr>\n",
       "    <tr>\n",
       "      <th>max</th>\n",
       "      <td>36019.000000</td>\n",
       "      <td>210.000000</td>\n",
       "      <td>143.000000</td>\n",
       "      <td>518.000000</td>\n",
       "      <td>1440.000000</td>\n",
       "      <td>4900.000000</td>\n",
       "      <td>6.000000</td>\n",
       "    </tr>\n",
       "  </tbody>\n",
       "</table>\n",
       "</div>"
      ],
      "text/plain": [
       "         TotalSteps  VeryActiveMinutes  FairlyActiveMinutes  \\\n",
       "count    940.000000         940.000000           940.000000   \n",
       "mean    7637.910638          21.164894            13.564894   \n",
       "std     5087.150742          32.844803            19.987404   \n",
       "min        0.000000           0.000000             0.000000   \n",
       "25%     3789.750000           0.000000             0.000000   \n",
       "50%     7405.500000           4.000000             6.000000   \n",
       "75%    10727.000000          32.000000            19.000000   \n",
       "max    36019.000000         210.000000           143.000000   \n",
       "\n",
       "       LightlyActiveMinutes  SedentaryMinutes     Calories  Number_of_week  \n",
       "count            940.000000        940.000000   940.000000      940.000000  \n",
       "mean             192.812766        991.210638  2303.609574        2.918085  \n",
       "std              109.174700        301.267437   718.166862        1.942379  \n",
       "min                0.000000          0.000000     0.000000        0.000000  \n",
       "25%              127.000000        729.750000  1828.500000        1.000000  \n",
       "50%              199.000000       1057.500000  2134.000000        3.000000  \n",
       "75%              264.000000       1229.500000  2793.250000        5.000000  \n",
       "max              518.000000       1440.000000  4900.000000        6.000000  "
      ]
     },
     "execution_count": 27,
     "metadata": {},
     "output_type": "execute_result"
    }
   ],
   "source": [
    "#Showing us totalsteps 25% 75% and mean we can also use describe to see more \n",
    "df_subset_without_date = df_subset.drop(columns=['ActivityDate'])\n",
    "df_subset_without_date.describe()"
   ]
  },
  {
   "cell_type": "code",
   "execution_count": 28,
   "id": "5dc84c3a",
   "metadata": {
    "execution": {
     "iopub.execute_input": "2024-04-10T14:24:48.727393Z",
     "iopub.status.busy": "2024-04-10T14:24:48.726994Z",
     "iopub.status.idle": "2024-04-10T14:24:48.732179Z",
     "shell.execute_reply": "2024-04-10T14:24:48.730697Z"
    },
    "papermill": {
     "duration": 0.023783,
     "end_time": "2024-04-10T14:24:48.734567",
     "exception": false,
     "start_time": "2024-04-10T14:24:48.710784",
     "status": "completed"
    },
    "tags": []
   },
   "outputs": [],
   "source": [
    "# well 4900 calories was burnt from one person is this really possible?\n",
    "#This one outlier seems pretty weird "
   ]
  },
  {
   "cell_type": "code",
   "execution_count": 29,
   "id": "1a976f2f",
   "metadata": {
    "execution": {
     "iopub.execute_input": "2024-04-10T14:24:48.768327Z",
     "iopub.status.busy": "2024-04-10T14:24:48.767689Z",
     "iopub.status.idle": "2024-04-10T14:24:49.413368Z",
     "shell.execute_reply": "2024-04-10T14:24:49.411081Z"
    },
    "papermill": {
     "duration": 0.667306,
     "end_time": "2024-04-10T14:24:49.417744",
     "exception": false,
     "start_time": "2024-04-10T14:24:48.750438",
     "status": "completed"
    },
    "tags": []
   },
   "outputs": [
    {
     "data": {
      "image/png": "[encoded data removed]",
      "text/plain": [
       "<Figure size 640x480 with 1 Axes>"
      ]
     },
     "metadata": {},
     "output_type": "display_data"
    }
   ],
   "source": [
    "#lets see corellation between steps and calories (if exist)\n",
    "corr = sns.scatterplot(x=df_subset['TotalSteps'],y=df_subset['Calories'],hue=df_subset['ActivityCategory'])"
   ]
  },
  {
   "cell_type": "code",
   "execution_count": 30,
   "id": "6ce3d5c7",
   "metadata": {
    "execution": {
     "iopub.execute_input": "2024-04-10T14:24:49.467171Z",
     "iopub.status.busy": "2024-04-10T14:24:49.466767Z",
     "iopub.status.idle": "2024-04-10T14:24:49.478165Z",
     "shell.execute_reply": "2024-04-10T14:24:49.476915Z"
    },
    "papermill": {
     "duration": 0.040657,
     "end_time": "2024-04-10T14:24:49.481526",
     "exception": false,
     "start_time": "2024-04-10T14:24:49.440869",
     "status": "completed"
    },
    "tags": []
   },
   "outputs": [
    {
     "name": "stdout",
     "output_type": "stream",
     "text": [
      "Pearson correlation coefficient: PearsonRResult(statistic=0.5915680862453359, pvalue=8.203860328505984e-90)\n"
     ]
    }
   ],
   "source": [
    "from scipy.stats import pearsonr\n",
    "correlation_coefficient= pearsonr(df_subset['TotalSteps'], df_subset['Calories'])\n",
    "print(\"Pearson correlation coefficient:\", correlation_coefficient)\n",
    "#as we can see correlation is not very good because its also depends on degree of active life"
   ]
  },
  {
   "cell_type": "code",
   "execution_count": 31,
   "id": "64bbb458",
   "metadata": {
    "execution": {
     "iopub.execute_input": "2024-04-10T14:24:49.520685Z",
     "iopub.status.busy": "2024-04-10T14:24:49.519426Z",
     "iopub.status.idle": "2024-04-10T14:24:49.824744Z",
     "shell.execute_reply": "2024-04-10T14:24:49.823374Z"
    },
    "papermill": {
     "duration": 0.327696,
     "end_time": "2024-04-10T14:24:49.827429",
     "exception": false,
     "start_time": "2024-04-10T14:24:49.499733",
     "status": "completed"
    },
    "tags": []
   },
   "outputs": [
    {
     "data": {
      "image/png": "[encoded data removed]",
      "text/plain": [
       "<Figure size 640x480 with 1 Axes>"
      ]
     },
     "metadata": {},
     "output_type": "display_data"
    }
   ],
   "source": [
    "\n",
    "df_sorted = df_subset.groupby('Day_of_the_week')['TotalSteps'].sum().sort_values(ascending=False)\n",
    "plt.bar(df_sorted.index, df_sorted)\n",
    "plt.xticks(rotation=45, ha='right')\n",
    "plt.xlabel('Day of the Week')\n",
    "plt.ylabel('Total Steps')\n",
    "plt.show()"
   ]
  },
  {
   "cell_type": "code",
   "execution_count": 32,
   "id": "d3248b97",
   "metadata": {
    "execution": {
     "iopub.execute_input": "2024-04-10T14:24:49.866013Z",
     "iopub.status.busy": "2024-04-10T14:24:49.864750Z",
     "iopub.status.idle": "2024-04-10T14:24:50.211700Z",
     "shell.execute_reply": "2024-04-10T14:24:50.210484Z"
    },
    "papermill": {
     "duration": 0.36901,
     "end_time": "2024-04-10T14:24:50.214276",
     "exception": false,
     "start_time": "2024-04-10T14:24:49.845266",
     "status": "completed"
    },
    "tags": []
   },
   "outputs": [
    {
     "data": {
      "image/png": "[encoded data removed]",
      "text/plain": [
       "<Figure size 640x480 with 1 Axes>"
      ]
     },
     "metadata": {},
     "output_type": "display_data"
    }
   ],
   "source": [
    "\n",
    "df_sorted = df_subset.groupby('Day_of_the_week')['TotalSteps'].mean().sort_values(ascending=False)\n",
    "plt.bar(df_sorted.index, df_sorted)\n",
    "plt.xticks(rotation=45, ha='right')\n",
    "plt.xlabel('Day of the Week')\n",
    "plt.ylabel('Average Steps')\n",
    "plt.axhline(y=df_subset['TotalSteps'].mean(),color='blue', label='average daily steps')\n",
    "plt.legend()\n",
    "plt.show()"
   ]
  },
  {
   "cell_type": "markdown",
   "id": "046a5a42",
   "metadata": {
    "papermill": {
     "duration": 0.020529,
     "end_time": "2024-04-10T14:24:50.253091",
     "exception": false,
     "start_time": "2024-04-10T14:24:50.232562",
     "status": "completed"
    },
    "tags": []
   },
   "source": [
    "As we can see total steps and average steps are not equal by day of the week\n",
    "This can mean that its depends not only in day of the week but also in week, holidays or by season"
   ]
  },
  {
   "cell_type": "markdown",
   "id": "f0d89c0d",
   "metadata": {
    "papermill": {
     "duration": 0.018749,
     "end_time": "2024-04-10T14:24:50.291111",
     "exception": false,
     "start_time": "2024-04-10T14:24:50.272362",
     "status": "completed"
    },
    "tags": []
   },
   "source": [
    "Medical News Today cite: ,,For general fitness, most adults should aim for 10,000 steps per day, with fewer than 5,000 steps being a sign of a sedentary lifestyle.\"\n"
   ]
  },
  {
   "cell_type": "code",
   "execution_count": 33,
   "id": "a663b932",
   "metadata": {
    "execution": {
     "iopub.execute_input": "2024-04-10T14:24:50.331689Z",
     "iopub.status.busy": "2024-04-10T14:24:50.330660Z",
     "iopub.status.idle": "2024-04-10T14:24:50.523443Z",
     "shell.execute_reply": "2024-04-10T14:24:50.521690Z"
    },
    "papermill": {
     "duration": 0.21819,
     "end_time": "2024-04-10T14:24:50.528166",
     "exception": false,
     "start_time": "2024-04-10T14:24:50.309976",
     "status": "completed"
    },
    "tags": []
   },
   "outputs": [
    {
     "data": {
      "image/png": "[encoded data removed]",
      "text/plain": [
       "<Figure size 640x480 with 1 Axes>"
      ]
     },
     "metadata": {},
     "output_type": "display_data"
    }
   ],
   "source": [
    "df_subset_very_ac = df['VeryActiveMinutes'].sum()\n",
    "df_subset_fairly_ac = df['FairlyActiveMinutes'].sum()\n",
    "df_subset_lightly_ac = df['LightlyActiveMinutes'].sum()\n",
    "df_subset_sedentary_ac = df['SedentaryMinutes'].sum()\n",
    "sizes = [df_subset_very_ac, df_subset_fairly_ac, df_subset_lightly_ac, df_subset_sedentary_ac]\n",
    "labels = ['Very Active', 'Fairly Active', 'Lightly Active', 'Sedentary']\n",
    "plt.pie(sizes, labels=labels, autopct='%1.1f%%')\n",
    "plt.axis('equal')\n",
    "plt.title('Activity Breakdown')\n",
    "plt.show()"
   ]
  }
 ],
 "metadata": {
  "kaggle": {
   "accelerator": "none",
   "dataSources": [
    {
     "datasetId": 1041311,
     "sourceId": 7746251,
     "sourceType": "datasetVersion"
    }
   ],
   "dockerImageVersionId": 30684,
   "isGpuEnabled": false,
   "isInternetEnabled": true,
   "language": "python",
   "sourceType": "notebook"
  },
  "kernelspec": {
   "display_name": "Python 3",
   "language": "python",
   "name": "python3"
  },
  "language_info": {
   "codemirror_mode": {
    "name": "ipython",
    "version": 3
   },
   "file_extension": ".py",
   "mimetype": "text/x-python",
   "name": "python",
   "nbconvert_exporter": "python",
   "pygments_lexer": "ipython3",
   "version": "3.10.13"
  },
  "papermill": {
   "default_parameters": {},
   "duration": 11.222528,
   "end_time": "2024-04-10T14:24:51.288160",
   "environment_variables": {},
   "exception": null,
   "input_path": "__notebook__.ipynb",
   "output_path": "__notebook__.ipynb",
   "parameters": {},
   "start_time": "2024-04-10T14:24:40.065632",
   "version": "2.5.0"
  }
 },
 "nbformat": 4,
 "nbformat_minor": 5
}
